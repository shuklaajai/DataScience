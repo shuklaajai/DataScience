{
 "cells": [
  {
   "cell_type": "markdown",
   "metadata": {},
   "source": [
    "# Lesson 03 Assignment\n",
    "Author: Ajai Shukla\n",
    "Description:\n",
    "Using the Superstore Transaction dataset, create a new notebook and perform each of the following tasks and answer the related questions:\n",
    "\n",
    "Read dataset\n",
    "Calculate the Recency, Frequency, Monitory for each customer\n",
    "Using K-means algorithm, perform customer segmentation\n",
    "Describe your results"
   ]
  },
  {
   "cell_type": "code",
   "execution_count": 107,
   "metadata": {},
   "outputs": [],
   "source": [
    "\n",
    "# importing all the packages required for the data analysis\n",
    "import pandas as pd\n",
    "import numpy as np\n",
    "import matplotlib.pyplot as plt\n",
    "import seaborn as sns\n",
    "color = sns.color_palette()\n",
    "from IPython.display import display, HTML"
   ]
  },
  {
   "cell_type": "code",
   "execution_count": 108,
   "metadata": {},
   "outputs": [],
   "source": [
    "# loading the dataset:\n",
    "df = pd.read_csv(r'C:\\Users\\ashukla\\Documents\\DS\\SuperstoreTransaction.csv', encoding=\"ISO-8859-1\",dtype={'OrderID': str})                      \n"
   ]
  },
  {
   "cell_type": "code",
   "execution_count": 109,
   "metadata": {},
   "outputs": [
    {
     "name": "stdout",
     "output_type": "stream",
     "text": [
      "   RowID         OrderID   OrderDate    ShipDate        ShipMode CustomerID  \\\n",
      "0      1  CA-2016-152156   11/8/2016  11/11/2016    Second Class   CG-12520   \n",
      "1      2  CA-2016-152156   11/8/2016  11/11/2016    Second Class   CG-12520   \n",
      "2      3  CA-2016-138688   6/12/2016   6/16/2016    Second Class   DV-13045   \n",
      "3      4  US-2015-108966  10/11/2015  10/18/2015  Standard Class   SO-20335   \n",
      "4      5  US-2015-108966  10/11/2015  10/18/2015  Standard Class   SO-20335   \n",
      "5      6  CA-2014-115812    6/9/2014   6/14/2014  Standard Class   BH-11710   \n",
      "6      7  CA-2014-115812    6/9/2014   6/14/2014  Standard Class   BH-11710   \n",
      "7      8  CA-2014-115812    6/9/2014   6/14/2014  Standard Class   BH-11710   \n",
      "8      9  CA-2014-115812    6/9/2014   6/14/2014  Standard Class   BH-11710   \n",
      "9     10  CA-2014-115812    6/9/2014   6/14/2014  Standard Class   BH-11710   \n",
      "\n",
      "      CustomerName    Segment        Country             City    ...     \\\n",
      "0      Claire Gute   Consumer  United States        Henderson    ...      \n",
      "1      Claire Gute   Consumer  United States        Henderson    ...      \n",
      "2  Darrin Van Huff  Corporate  United States      Los Angeles    ...      \n",
      "3   Sean O'Donnell   Consumer  United States  Fort Lauderdale    ...      \n",
      "4   Sean O'Donnell   Consumer  United States  Fort Lauderdale    ...      \n",
      "5  Brosina Hoffman   Consumer  United States      Los Angeles    ...      \n",
      "6  Brosina Hoffman   Consumer  United States      Los Angeles    ...      \n",
      "7  Brosina Hoffman   Consumer  United States      Los Angeles    ...      \n",
      "8  Brosina Hoffman   Consumer  United States      Los Angeles    ...      \n",
      "9  Brosina Hoffman   Consumer  United States      Los Angeles    ...      \n",
      "\n",
      "  PostalCode  Region        ProductID         Category Sub-Category  \\\n",
      "0      42420   South  FUR-BO-10001798        Furniture    Bookcases   \n",
      "1      42420   South  FUR-CH-10000454        Furniture       Chairs   \n",
      "2      90036    West  OFF-LA-10000240  Office Supplies       Labels   \n",
      "3      33311   South  FUR-TA-10000577        Furniture       Tables   \n",
      "4      33311   South  OFF-ST-10000760  Office Supplies      Storage   \n",
      "5      90032    West  FUR-FU-10001487        Furniture  Furnishings   \n",
      "6      90032    West  OFF-AR-10002833  Office Supplies          Art   \n",
      "7      90032    West  TEC-PH-10002275       Technology       Phones   \n",
      "8      90032    West  OFF-BI-10003910  Office Supplies      Binders   \n",
      "9      90032    West  OFF-AP-10002892  Office Supplies   Appliances   \n",
      "\n",
      "                                         ProductName     Sales  Quantity  \\\n",
      "0                  Bush Somerset Collection Bookcase  261.9600         2   \n",
      "1  Hon Deluxe Fabric Upholstered Stacking Chairs,...  731.9400         3   \n",
      "2  Self-Adhesive Address Labels for Typewriters b...   14.6200         2   \n",
      "3      Bretford CR4500 Series Slim Rectangular Table  957.5775         5   \n",
      "4                     Eldon Fold 'N Roll Cart System   22.3680         2   \n",
      "5  Eldon Expressions Wood and Plastic Desk Access...   48.8600         7   \n",
      "6                                         Newell 322    7.2800         4   \n",
      "7                     Mitel 5320 IP Phone VoIP phone  907.1520         6   \n",
      "8  DXL Angle-View Binders with Locking Rings by S...   18.5040         3   \n",
      "9                   Belkin F5C206VTEL 6 Outlet Surge  114.9000         5   \n",
      "\n",
      "   Discount    Profit  \n",
      "0      0.00   41.9136  \n",
      "1      0.00  219.5820  \n",
      "2      0.00    6.8714  \n",
      "3      0.45 -383.0310  \n",
      "4      0.20    2.5164  \n",
      "5      0.00   14.1694  \n",
      "6      0.00    1.9656  \n",
      "7      0.20   90.7152  \n",
      "8      0.20    5.7825  \n",
      "9      0.00   34.4700  \n",
      "\n",
      "[10 rows x 21 columns]\n"
     ]
    },
    {
     "data": {
      "text/plain": [
       "(9994, 21)"
      ]
     },
     "execution_count": 109,
     "metadata": {},
     "output_type": "execute_result"
    }
   ],
   "source": [
    "\n",
    "print(df.head(10))\n",
    "# looking at the shape of the dataset\n",
    "df.shape"
   ]
  },
  {
   "cell_type": "markdown",
   "metadata": {},
   "source": [
    "# Data Explorations:\n",
    "Columns Description :\n",
    "\n",
    "OrderID : Unique ID for every time a consumer visits the store\n",
    "ShipMode: Unique ID for a product\n",
    "Description : Description of the product\n",
    "Quantity : No of units bought\n",
    "IOrderDate : Date and time of purchase\n",
    "Sales : Price for 1 unit of the product\n",
    "CustomerId : Unique ID for each customer\n",
    "Country : Country where transaction happened\n",
    "Also for our analysis we need to calculate the total sales for each product by multiplying Quantity with Unit Price. Also, convert Invoice Date in YYYYMM format."
   ]
  },
  {
   "cell_type": "code",
   "execution_count": 110,
   "metadata": {},
   "outputs": [
    {
     "data": {
      "text/plain": [
       "date\n",
       "201401     79\n",
       "201402     46\n",
       "201403    157\n",
       "201404    135\n",
       "201405    122\n",
       "201406    135\n",
       "201407    143\n",
       "201408    153\n",
       "201409    268\n",
       "201410    159\n",
       "201411    318\n",
       "201412    278\n",
       "201501     58\n",
       "201502     64\n",
       "201503    138\n",
       "201504    160\n",
       "201505    146\n",
       "201506    138\n",
       "201507    140\n",
       "201508    159\n",
       "201509    293\n",
       "201510    166\n",
       "201511    324\n",
       "201512    316\n",
       "201601     89\n",
       "201602     83\n",
       "201603    163\n",
       "201604    170\n",
       "201605    225\n",
       "201606    199\n",
       "201607    201\n",
       "201608    176\n",
       "201609    363\n",
       "201610    196\n",
       "201611    370\n",
       "201612    352\n",
       "201701    155\n",
       "201702    107\n",
       "201703    238\n",
       "201704    203\n",
       "201705    242\n",
       "201706    245\n",
       "201707    226\n",
       "201708    218\n",
       "201709    459\n",
       "201710    298\n",
       "201711    459\n",
       "201712    462\n",
       "dtype: int64"
      ]
     },
     "execution_count": 110,
     "metadata": {},
     "output_type": "execute_result"
    }
   ],
   "source": [
    "df['Total_Price'] = df['Sales']*df['Quantity']\n",
    "\n",
    "tst = df.groupby(['OrderDate','OrderID'])\n",
    "        \n",
    "tst.size()\n",
    "\n",
    "# converting \n",
    "df['date'] =pd.to_datetime(df['OrderDate']).map(lambda x: 100*x.year + x.month)\n",
    "\n",
    "tst = df.groupby(['date'])\n",
    "tst.size()"
   ]
  },
  {
   "cell_type": "code",
   "execution_count": 111,
   "metadata": {},
   "outputs": [
    {
     "data": {
      "image/png": "[encoded data removed]",
      "text/plain": [
       "<Figure size 864x576 with 1 Axes>"
      ]
     },
     "metadata": {
      "needs_background": "light"
     },
     "output_type": "display_data"
    }
   ],
   "source": [
    "# checking State-wise sales \n",
    "Cust_state=df[['State','CustomerID']].drop_duplicates()\n",
    "\n",
    "#Calculating the distinct count of customer for each State\n",
    "Cust_state_count=Cust_state.groupby(['State'])['CustomerID'].\\\n",
    "aggregate('count').reset_index().sort_values('CustomerID', ascending=False)\n",
    "\n",
    "#Plotting the count of customers\n",
    "state=list(Cust_state_count['State'])\n",
    "Cust_id=list(Cust_state_count['CustomerID'])\n",
    "plt.figure(figsize=(12,8))\n",
    "sns.barplot(state, Cust_id, alpha=0.8, color=color[2])\n",
    "plt.xticks(rotation='60')\n",
    "plt.show()\n"
   ]
  },
  {
   "cell_type": "raw",
   "metadata": {},
   "source": [
    "\n",
    "It can be seen from the graph that around 90% of the customers exist in California State only followed by NewYork and Texas. Hence, the company should focus on the United Kingdom for it marketing and other strategies.\n",
    "\n",
    "Now we will start with the RFM analysis. I tagged each customer on a scale of 1 to 5 for each of the criterion where 5 will be the highest and 1 will be the lowest tagging. The customers on the top of all the three criterion will be the most significant customers.\n"
   ]
  },
  {
   "cell_type": "markdown",
   "metadata": {},
   "source": [
    "# RFM (Recency, Frequency, Monetary) analysis\n",
    "RFM criterion is one of the oldest and most widely used technique for selecting the most significant customers. It supports the selection of customers that are most recent (R), frequent (F), and add a larger monetary value (M) in every transaction.\n",
    "\n",
    "Recency (R): Recency is the most important predictor of who is more likely to respond to an offer. Customers who have purchased recently are more likely to purchase again when compared to those who did not purchase recently. To tag the customers on the basis of recency flag, we will first filter the customers of United Kingdom and take distinct dates of their purchase."
   ]
  },
  {
   "cell_type": "code",
   "execution_count": 112,
   "metadata": {},
   "outputs": [],
   "source": [
    "Cust_date_US=df[df['State']=='California']\n",
    "Cust_date_US=Cust_date_US[['CustomerID','date']].drop_duplicates()"
   ]
  },
  {
   "cell_type": "raw",
   "metadata": {},
   "source": [
    "I tagged the customers from 1 to 5 in steps of 2 months i.e. 5 if customer bought in last 2 months else 4 if made a purchase in last 4 months and so on. Finally for a customer, maximum of the recency flag is taken as final recency flag."
   ]
  },
  {
   "cell_type": "code",
   "execution_count": 113,
   "metadata": {},
   "outputs": [
    {
     "data": {
      "text/html": [
       "<div>\n",
       "<style scoped>\n",
       "    .dataframe tbody tr th:only-of-type {\n",
       "        vertical-align: middle;\n",
       "    }\n",
       "\n",
       "    .dataframe tbody tr th {\n",
       "        vertical-align: top;\n",
       "    }\n",
       "\n",
       "    .dataframe thead th {\n",
       "        text-align: right;\n",
       "    }\n",
       "</style>\n",
       "<table border=\"1\" class=\"dataframe\">\n",
       "  <thead>\n",
       "    <tr style=\"text-align: right;\">\n",
       "      <th></th>\n",
       "      <th>CustomerID</th>\n",
       "      <th>date</th>\n",
       "      <th>Recency_Flag</th>\n",
       "    </tr>\n",
       "  </thead>\n",
       "  <tbody>\n",
       "    <tr>\n",
       "      <th>2</th>\n",
       "      <td>DV-13045</td>\n",
       "      <td>201606</td>\n",
       "      <td>1</td>\n",
       "    </tr>\n",
       "    <tr>\n",
       "      <th>5</th>\n",
       "      <td>BH-11710</td>\n",
       "      <td>201406</td>\n",
       "      <td>1</td>\n",
       "    </tr>\n",
       "    <tr>\n",
       "      <th>18</th>\n",
       "      <td>ZD-21925</td>\n",
       "      <td>201408</td>\n",
       "      <td>1</td>\n",
       "    </tr>\n",
       "    <tr>\n",
       "      <th>25</th>\n",
       "      <td>EH-13945</td>\n",
       "      <td>201601</td>\n",
       "      <td>1</td>\n",
       "    </tr>\n",
       "    <tr>\n",
       "      <th>42</th>\n",
       "      <td>RA-19885</td>\n",
       "      <td>201607</td>\n",
       "      <td>1</td>\n",
       "    </tr>\n",
       "  </tbody>\n",
       "</table>\n",
       "</div>"
      ],
      "text/plain": [
       "   CustomerID    date  Recency_Flag\n",
       "2    DV-13045  201606             1\n",
       "5    BH-11710  201406             1\n",
       "18   ZD-21925  201408             1\n",
       "25   EH-13945  201601             1\n",
       "42   RA-19885  201607             1"
      ]
     },
     "execution_count": 113,
     "metadata": {},
     "output_type": "execute_result"
    }
   ],
   "source": [
    "\n",
    "def recency(row):\n",
    "    if row['date']>201710:\n",
    "        val = 5\n",
    "    elif row['date'] <= 201710 and row['date'] > 201708:\n",
    "        val = 4\n",
    "    elif row['date'] <= 201706 and row['date'] > 201704:\n",
    "        val = 3\n",
    "    elif row['date'] <= 201704 and row['date'] > 201702:\n",
    "        val = 2\n",
    "    else:\n",
    "        val = 1\n",
    "    return val\n",
    "\n",
    "Cust_date_US['Recency_Flag'] = Cust_date_US.apply(recency, axis=1)\n",
    "Cust_date_US.head()"
   ]
  },
  {
   "cell_type": "code",
   "execution_count": 114,
   "metadata": {},
   "outputs": [
    {
     "data": {
      "text/plain": [
       "Recency_Flag\n",
       "1    745\n",
       "2     50\n",
       "3     49\n",
       "4     74\n",
       "5     89\n",
       "dtype: int64"
      ]
     },
     "execution_count": 114,
     "metadata": {},
     "output_type": "execute_result"
    }
   ],
   "source": [
    "tst = Cust_date_US.groupby('Recency_Flag')\n",
    "tst.size()"
   ]
  },
  {
   "cell_type": "raw",
   "metadata": {},
   "source": [
    " Note that some customers have not visited the store in last 4–8 months. To regain that lost customer base, business should look out for the reasons why these customers stop visiting the stores.\n",
    "\n"
   ]
  },
  {
   "cell_type": "markdown",
   "metadata": {},
   "source": [
    "# Frequency (F):\n",
    "The second most important factor is how frequently these customers purchase. The higher the frequency, the higher is the chances of these responding to the offers. To tag the customers on the basis of frequency flag, we will take State wise count of distinct Order number for each customer and then filter out the customers of California States. After that, Order count will be split into 5 equal parts to rank the customers on a scale of 1 to 5 where 5 being the most frequent."
   ]
  },
  {
   "cell_type": "code",
   "execution_count": 115,
   "metadata": {},
   "outputs": [],
   "source": [
    "Cust_freq=df[['State','OrderID','CustomerID']].drop_duplicates()\n",
    "Cust_freq.head()\n",
    "\n",
    "#Calculating the count of unique purchase for each customer and his buying freq in descending order\n",
    "Cust_freq_count=Cust_freq.groupby(['State','CustomerID'])['OrderID'].aggregate('count').\\\n",
    "reset_index().sort_values('OrderID', ascending=False)\n",
    "\n",
    "\n",
    "Cust_freq_count_CA=Cust_freq_count[Cust_freq_count['State']=='California']\n",
    "Cust_freq_count_CA.head()\n",
    "unique_invoice=Cust_freq_count_CA[['OrderID']].drop_duplicates()"
   ]
  },
  {
   "cell_type": "code",
   "execution_count": 116,
   "metadata": {},
   "outputs": [
    {
     "data": {
      "text/html": [
       "<div>\n",
       "<style scoped>\n",
       "    .dataframe tbody tr th:only-of-type {\n",
       "        vertical-align: middle;\n",
       "    }\n",
       "\n",
       "    .dataframe tbody tr th {\n",
       "        vertical-align: top;\n",
       "    }\n",
       "\n",
       "    .dataframe thead th {\n",
       "        text-align: right;\n",
       "    }\n",
       "</style>\n",
       "<table border=\"1\" class=\"dataframe\">\n",
       "  <thead>\n",
       "    <tr style=\"text-align: right;\">\n",
       "      <th></th>\n",
       "      <th>Freqency_Band</th>\n",
       "    </tr>\n",
       "  </thead>\n",
       "  <tbody>\n",
       "    <tr>\n",
       "      <th>504</th>\n",
       "      <td>(5.0, 6.0]</td>\n",
       "    </tr>\n",
       "    <tr>\n",
       "      <th>183</th>\n",
       "      <td>(4.0, 5.0]</td>\n",
       "    </tr>\n",
       "    <tr>\n",
       "      <th>420</th>\n",
       "      <td>(3.0, 4.0]</td>\n",
       "    </tr>\n",
       "    <tr>\n",
       "      <th>286</th>\n",
       "      <td>(2.0, 3.0]</td>\n",
       "    </tr>\n",
       "    <tr>\n",
       "      <th>658</th>\n",
       "      <td>(0.999, 2.0]</td>\n",
       "    </tr>\n",
       "  </tbody>\n",
       "</table>\n",
       "</div>"
      ],
      "text/plain": [
       "    Freqency_Band\n",
       "504    (5.0, 6.0]\n",
       "183    (4.0, 5.0]\n",
       "420    (3.0, 4.0]\n",
       "286    (2.0, 3.0]\n",
       "658  (0.999, 2.0]"
      ]
     },
     "execution_count": 116,
     "metadata": {},
     "output_type": "execute_result"
    }
   ],
   "source": [
    "# Dividing in 5 equal parts\n",
    "unique_invoice['Freqency_Band'] = pd.qcut(unique_invoice['OrderID'], 5)\n",
    "unique_invoice=unique_invoice[['Freqency_Band']].drop_duplicates()\n",
    "unique_invoice"
   ]
  },
  {
   "cell_type": "code",
   "execution_count": 117,
   "metadata": {},
   "outputs": [
    {
     "name": "stderr",
     "output_type": "stream",
     "text": [
      "C:\\Users\\ashukla\\Anaconda3\\lib\\site-packages\\ipykernel_launcher.py:14: SettingWithCopyWarning: \n",
      "A value is trying to be set on a copy of a slice from a DataFrame.\n",
      "Try using .loc[row_indexer,col_indexer] = value instead\n",
      "\n",
      "See the caveats in the documentation: http://pandas.pydata.org/pandas-docs/stable/indexing.html#indexing-view-versus-copy\n",
      "  \n"
     ]
    }
   ],
   "source": [
    "def frequency(row):\n",
    "    if row['OrderID'] <= 2.0:\n",
    "        val = 1\n",
    "    elif row['OrderID'] > 2.0 and row['OrderID'] <= 3.0:\n",
    "        val = 2\n",
    "    elif row['OrderID'] > 3.0 and row['OrderID'] <= 4.0:\n",
    "        val = 3\n",
    "    elif row['OrderID'] > 4.0 and row['OrderID'] <= 5.0:\n",
    "        val = 4\n",
    "    else:\n",
    "        val = 5\n",
    "    return val\n",
    "\n",
    "Cust_freq_count_CA['Freq_Flag'] = Cust_freq_count_CA.apply(frequency, axis=1)\n"
   ]
  },
  {
   "cell_type": "code",
   "execution_count": 118,
   "metadata": {},
   "outputs": [
    {
     "data": {
      "text/plain": [
       "Freq_Flag\n",
       "1    464\n",
       "2     82\n",
       "3     27\n",
       "4      2\n",
       "5      2\n",
       "dtype: int64"
      ]
     },
     "execution_count": 118,
     "metadata": {},
     "output_type": "execute_result"
    }
   ],
   "source": [
    "#Let us check the distribution of Frequency flags:\n",
    "Cust_freq_count_CA.groupby(['Freq_Flag']).size()"
   ]
  },
  {
   "cell_type": "code",
   "execution_count": 119,
   "metadata": {},
   "outputs": [
    {
     "data": {
      "image/png": "[encoded data removed]",
      "text/plain": [
       "<Figure size 864x576 with 1 Axes>"
      ]
     },
     "metadata": {
      "needs_background": "light"
     },
     "output_type": "display_data"
    }
   ],
   "source": [
    "plt.figure(figsize=(12,8))\n",
    "sns.countplot(x='Freq_Flag', data=Cust_freq_count_NY, color=color[1])\n",
    "plt.ylabel('Count', fontsize=12)\n",
    "plt.xlabel('Freq_Flag', fontsize=12)\n",
    "plt.xticks(rotation='vertical')\n",
    "plt.title('Frequency of Freq_Flag', fontsize=15)\n",
    "plt.show()"
   ]
  },
  {
   "cell_type": "markdown",
   "metadata": {},
   "source": [
    "# Monetary Value (M):\n",
    "The third factor is the amount of money these customers have spent on purchases. Customers who have spent higher contribute more value to the business as compared to those who have spent less. To tag the customers on the basis of monetary flag, we will take country wise sum of Total price for each customer and then filter out the customers of California."
   ]
  },
  {
   "cell_type": "code",
   "execution_count": 120,
   "metadata": {},
   "outputs": [],
   "source": [
    "#Calculating the Sum of total monetary purchase for each customer\n",
    "\n",
    "Cust_monetary = df.groupby(['State','CustomerID'])['Total_Price'].aggregate('sum').\\\n",
    "reset_index().sort_values('Total_Price', ascending=False)\n",
    "Cust_monetary_CA=Cust_monetary[Cust_monetary['State']=='California']"
   ]
  },
  {
   "cell_type": "raw",
   "metadata": {},
   "source": [
    "Notice that there are some negative values in the total price column. This is the case because when a customer returns the product it purchased, it is stored as a negative value in the quantity column. Before splitting Total price in 5 parts, we will remove these negative quantities."
   ]
  },
  {
   "cell_type": "code",
   "execution_count": 121,
   "metadata": {},
   "outputs": [
    {
     "data": {
      "text/html": [
       "<div>\n",
       "<style scoped>\n",
       "    .dataframe tbody tr th:only-of-type {\n",
       "        vertical-align: middle;\n",
       "    }\n",
       "\n",
       "    .dataframe tbody tr th {\n",
       "        vertical-align: top;\n",
       "    }\n",
       "\n",
       "    .dataframe thead th {\n",
       "        text-align: right;\n",
       "    }\n",
       "</style>\n",
       "<table border=\"1\" class=\"dataframe\">\n",
       "  <thead>\n",
       "    <tr style=\"text-align: right;\">\n",
       "      <th></th>\n",
       "      <th>monetary_Band</th>\n",
       "    </tr>\n",
       "  </thead>\n",
       "  <tbody>\n",
       "    <tr>\n",
       "      <th>476</th>\n",
       "      <td>(6154.702, 52608.878]</td>\n",
       "    </tr>\n",
       "    <tr>\n",
       "      <th>623</th>\n",
       "      <td>(2329.96, 6154.702]</td>\n",
       "    </tr>\n",
       "    <tr>\n",
       "      <th>180</th>\n",
       "      <td>(881.534, 2329.96]</td>\n",
       "    </tr>\n",
       "    <tr>\n",
       "      <th>694</th>\n",
       "      <td>(272.691, 881.534]</td>\n",
       "    </tr>\n",
       "    <tr>\n",
       "      <th>202</th>\n",
       "      <td>(3.983, 272.691]</td>\n",
       "    </tr>\n",
       "  </tbody>\n",
       "</table>\n",
       "</div>"
      ],
      "text/plain": [
       "             monetary_Band\n",
       "476  (6154.702, 52608.878]\n",
       "623    (2329.96, 6154.702]\n",
       "180     (881.534, 2329.96]\n",
       "694     (272.691, 881.534]\n",
       "202       (3.983, 272.691]"
      ]
     },
     "execution_count": 121,
     "metadata": {},
     "output_type": "execute_result"
    }
   ],
   "source": [
    "unique_price=Cust_monetary_CA[['Total_Price']].drop_duplicates()\n",
    "unique_price=unique_price[unique_price['Total_Price'] > 0]\n",
    "unique_price['monetary_Band'] = pd.qcut(unique_price['Total_Price'], 5)\n",
    "unique_price=unique_price[['monetary_Band']].drop_duplicates()\n",
    "unique_price"
   ]
  },
  {
   "cell_type": "code",
   "execution_count": 122,
   "metadata": {},
   "outputs": [
    {
     "name": "stderr",
     "output_type": "stream",
     "text": [
      "C:\\Users\\ashukla\\Anaconda3\\lib\\site-packages\\ipykernel_launcher.py:13: SettingWithCopyWarning: \n",
      "A value is trying to be set on a copy of a slice from a DataFrame.\n",
      "Try using .loc[row_indexer,col_indexer] = value instead\n",
      "\n",
      "See the caveats in the documentation: http://pandas.pydata.org/pandas-docs/stable/indexing.html#indexing-view-versus-copy\n",
      "  del sys.path[0]\n"
     ]
    }
   ],
   "source": [
    "def monetary(row):\n",
    "    if row['Total_Price'] <= 272:\n",
    "        val = 1\n",
    "    elif row['Total_Price'] > 272 and row['Total_Price'] <= 881:\n",
    "        val = 2\n",
    "    elif row['Total_Price'] > 881 and row['Total_Price'] <= 2329:\n",
    "        val = 3\n",
    "    elif row['Total_Price'] > 2329 and row['Total_Price'] <= 6154:\n",
    "        val = 4\n",
    "    else:\n",
    "        val = 5\n",
    "    return val\n",
    "Cust_monetary_CA['Monetary_Flag'] = Cust_monetary_CA.apply(monetary, axis=1)"
   ]
  },
  {
   "cell_type": "code",
   "execution_count": 123,
   "metadata": {},
   "outputs": [
    {
     "data": {
      "text/plain": [
       "Monetary_Flag\n",
       "1    119\n",
       "2    114\n",
       "3    115\n",
       "4    114\n",
       "5    115\n",
       "dtype: int64"
      ]
     },
     "execution_count": 123,
     "metadata": {},
     "output_type": "execute_result"
    }
   ],
   "source": [
    "\n",
    "# Let us check the distribution of Monetary flags:\n",
    "Cust_monetary_CA.groupby(['Monetary_Flag']).size()"
   ]
  },
  {
   "cell_type": "code",
   "execution_count": 124,
   "metadata": {},
   "outputs": [
    {
     "data": {
      "image/png": "[encoded data removed]",
      "text/plain": [
       "<Figure size 864x576 with 1 Axes>"
      ]
     },
     "metadata": {
      "needs_background": "light"
     },
     "output_type": "display_data"
    }
   ],
   "source": [
    "\n",
    "plt.figure(figsize=(12,8))\n",
    "sns.countplot(x='Monetary_Flag', data=Cust_monetary_CA, color=color[1])\n",
    "plt.ylabel('Count', fontsize=12)\n",
    "plt.xlabel('Monetary_Flag', fontsize=12)\n",
    "plt.xticks(rotation='vertical')\n",
    "plt.title('Frequency of Monetary_Flag', fontsize=15)\n",
    "plt.show()"
   ]
  },
  {
   "cell_type": "raw",
   "metadata": {},
   "source": [
    "There is an almost equal distribution of customers as far as monetary value is concerned."
   ]
  },
  {
   "cell_type": "code",
   "execution_count": 125,
   "metadata": {},
   "outputs": [
    {
     "data": {
      "text/html": [
       "<div>\n",
       "<style scoped>\n",
       "    .dataframe tbody tr th:only-of-type {\n",
       "        vertical-align: middle;\n",
       "    }\n",
       "\n",
       "    .dataframe tbody tr th {\n",
       "        vertical-align: top;\n",
       "    }\n",
       "\n",
       "    .dataframe thead th {\n",
       "        text-align: right;\n",
       "    }\n",
       "</style>\n",
       "<table border=\"1\" class=\"dataframe\">\n",
       "  <thead>\n",
       "    <tr style=\"text-align: right;\">\n",
       "      <th></th>\n",
       "      <th>State</th>\n",
       "      <th>CustomerID</th>\n",
       "      <th>Total_Price</th>\n",
       "      <th>Monetary_Flag_x</th>\n",
       "      <th>Monetary_Flag_y</th>\n",
       "    </tr>\n",
       "  </thead>\n",
       "  <tbody>\n",
       "    <tr>\n",
       "      <th>0</th>\n",
       "      <td>California</td>\n",
       "      <td>KF-16285</td>\n",
       "      <td>52608.8780</td>\n",
       "      <td>5</td>\n",
       "      <td>5</td>\n",
       "    </tr>\n",
       "    <tr>\n",
       "      <th>1</th>\n",
       "      <td>California</td>\n",
       "      <td>NP-18700</td>\n",
       "      <td>48794.8275</td>\n",
       "      <td>5</td>\n",
       "      <td>5</td>\n",
       "    </tr>\n",
       "    <tr>\n",
       "      <th>2</th>\n",
       "      <td>California</td>\n",
       "      <td>KC-16540</td>\n",
       "      <td>43523.4200</td>\n",
       "      <td>5</td>\n",
       "      <td>5</td>\n",
       "    </tr>\n",
       "    <tr>\n",
       "      <th>3</th>\n",
       "      <td>California</td>\n",
       "      <td>KL-16645</td>\n",
       "      <td>41886.4900</td>\n",
       "      <td>5</td>\n",
       "      <td>5</td>\n",
       "    </tr>\n",
       "    <tr>\n",
       "      <th>4</th>\n",
       "      <td>California</td>\n",
       "      <td>JW-15220</td>\n",
       "      <td>39636.4860</td>\n",
       "      <td>5</td>\n",
       "      <td>5</td>\n",
       "    </tr>\n",
       "    <tr>\n",
       "      <th>5</th>\n",
       "      <td>California</td>\n",
       "      <td>MS-17365</td>\n",
       "      <td>32883.4420</td>\n",
       "      <td>5</td>\n",
       "      <td>5</td>\n",
       "    </tr>\n",
       "    <tr>\n",
       "      <th>6</th>\n",
       "      <td>California</td>\n",
       "      <td>KH-16510</td>\n",
       "      <td>32753.0710</td>\n",
       "      <td>5</td>\n",
       "      <td>5</td>\n",
       "    </tr>\n",
       "    <tr>\n",
       "      <th>7</th>\n",
       "      <td>California</td>\n",
       "      <td>ME-17320</td>\n",
       "      <td>29184.9200</td>\n",
       "      <td>5</td>\n",
       "      <td>5</td>\n",
       "    </tr>\n",
       "    <tr>\n",
       "      <th>8</th>\n",
       "      <td>California</td>\n",
       "      <td>SC-20230</td>\n",
       "      <td>27751.1260</td>\n",
       "      <td>5</td>\n",
       "      <td>5</td>\n",
       "    </tr>\n",
       "    <tr>\n",
       "      <th>9</th>\n",
       "      <td>California</td>\n",
       "      <td>RW-19540</td>\n",
       "      <td>27413.9560</td>\n",
       "      <td>5</td>\n",
       "      <td>5</td>\n",
       "    </tr>\n",
       "  </tbody>\n",
       "</table>\n",
       "</div>"
      ],
      "text/plain": [
       "        State CustomerID  Total_Price  Monetary_Flag_x  Monetary_Flag_y\n",
       "0  California   KF-16285   52608.8780                5                5\n",
       "1  California   NP-18700   48794.8275                5                5\n",
       "2  California   KC-16540   43523.4200                5                5\n",
       "3  California   KL-16645   41886.4900                5                5\n",
       "4  California   JW-15220   39636.4860                5                5\n",
       "5  California   MS-17365   32883.4420                5                5\n",
       "6  California   KH-16510   32753.0710                5                5\n",
       "7  California   ME-17320   29184.9200                5                5\n",
       "8  California   SC-20230   27751.1260                5                5\n",
       "9  California   RW-19540   27413.9560                5                5"
      ]
     },
     "execution_count": 125,
     "metadata": {},
     "output_type": "execute_result"
    }
   ],
   "source": [
    "# Combining all the three flags :\n",
    "#Cust_CA_All=pd.merge(Cust_date_CA,Cust_freq_count_CA[['CustomerID','Freq_Flag']],\\\n",
    "#on=['CustomerID'],how='left')\n",
    "Cust_CA_All=pd.merge(Cust_monetary_CA,Cust_monetary_CA[['CustomerID','Monetary_Flag']],\\\n",
    "on=['CustomerID'],how='left')\n",
    "\n",
    "\n",
    "Cust_CA_All.head(10)"
   ]
  },
  {
   "cell_type": "markdown",
   "metadata": {},
   "source": [
    "# Analysis Report\n",
    "Based on business requirements, various cut-offs are imposed on each of the three parameters. After applying the cut-offs, customers can be classified mainly in three segments:\n",
    "\n",
    "Customers clearing all the three cut-offs are the best and the most reliable customers. Business should focus on making customised promotional strategies and loyalty schemes for these customers in order to retain this valuable customer base.\n",
    "Customers failing the recency criterion only are those customers who have stopped visiting the store. Business should focus on these customers and look out for the reason why they abandoned visiting the stores.\n",
    "Customers clearing the recency criterion but failing frequency criterion are the new customers. Business should provide more incentives and offers to these customers and try to retain these new customers. Apart from segmenting customers, business can also use RFM criterion to filter out a reliable customer base and perform analysis like Market Basket Analysis to see customer buying pattern or assess the success of marketing strategies by analysing the response of these customers."
   ]
  },
  {
   "cell_type": "code",
   "execution_count": null,
   "metadata": {},
   "outputs": [],
   "source": []
  }
 ],
 "metadata": {
  "kernelspec": {
   "display_name": "Python 3",
   "language": "python",
   "name": "python3"
  },
  "language_info": {
   "codemirror_mode": {
    "name": "ipython",
    "version": 3
   },
   "file_extension": ".py",
   "mimetype": "text/x-python",
   "name": "python",
   "nbconvert_exporter": "python",
   "pygments_lexer": "ipython3",
   "version": "3.7.1"
  }
 },
 "nbformat": 4,
 "nbformat_minor": 2
}
