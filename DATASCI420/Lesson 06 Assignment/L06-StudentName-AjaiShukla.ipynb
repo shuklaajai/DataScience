{
 "cells": [
  {
   "cell_type": "markdown",
   "metadata": {},
   "source": [
    "Lesson 06 Assignment \n",
    "Author: Ajai Shukla\n",
    "Instructions\n",
    "\n",
    "It is recommended you complete the lab exercises for this lesson before beginning the assignment.\n",
    "\n",
    "Using the Bank Data csv file, create a new notebook to train, test, and evaluate an ensemble model. Perform each of the following tasks and answer the related questions:\n",
    "\n",
    "    Read in, parse, and pre-process the data\n",
    "    Perform a brief exploratory analysis\n",
    "    Compare the performance between a decision tree and a random forest approach by assessing the accuracy of each model\n",
    "    Graph the structure of your decision tree\n",
    "    Graph the confusion matrix of your random forest model\n"
   ]
  },
  {
   "cell_type": "code",
   "execution_count": 35,
   "metadata": {},
   "outputs": [
    {
     "name": "stdout",
     "output_type": "stream",
     "text": [
      "Requirement already satisfied: GraphViz in c:\\users\\ashukla\\anaconda3\\lib\\site-packages (0.11.1)\n"
     ]
    }
   ],
   "source": [
    "!pip install GraphViz"
   ]
  },
  {
   "cell_type": "code",
   "execution_count": 36,
   "metadata": {},
   "outputs": [],
   "source": [
    "%matplotlib inline"
   ]
  },
  {
   "cell_type": "markdown",
   "metadata": {},
   "source": [
    "# Read in, parse, and pre-process the data"
   ]
  },
  {
   "cell_type": "code",
   "execution_count": 1,
   "metadata": {},
   "outputs": [],
   "source": [
    "import seaborn as sns\n",
    "import numpy as np\n",
    "import scipy.stats as stats\n",
    "import seaborn as sns\n",
    "import matplotlib.pyplot as plt\n",
    "import pandas as pd\n",
    "import patsy\n",
    "import sklearn.linear_model as linear\n",
    "import random\n",
    "sns.set(style=\"darkgrid\")\n",
    "import os,sys\n",
    "import xlrd\n",
    "import math\n",
    "from pandas.plotting import autocorrelation_plot\n",
    "plt.style.use('ggplot')\n",
    "%matplotlib inline\n",
    "from sklearn.model_selection import train_test_split, ShuffleSplit\n",
    "from sklearn import metrics as mt\n",
    "import datetime\n",
    "import time\n",
    "from sklearn.datasets import make_classification\n",
    "from sklearn.linear_model import LogisticRegression\n",
    "from sklearn.ensemble import (RandomTreesEmbedding, RandomForestClassifier,\n",
    "                              GradientBoostingClassifier)\n",
    "from sklearn.preprocessing import OneHotEncoder\n",
    "from sklearn.model_selection import train_test_split\n",
    "from sklearn.metrics import roc_curve\n",
    "from sklearn.pipeline import make_pipeline\n",
    "from sklearn.metrics import roc_curve, auc\n",
    "import pylab as p\n",
    "from sklearn import tree\n",
    "from io import BytesIO as StringIO\n",
    "from IPython.display import Image\n",
    "import pydotplus\n",
    "from IPython.display import Image  \n",
    "import pydotplus\n",
    "from io import BytesIO as StringIO\n",
    "import graphviz\n",
    "import copy\n",
    "from copy import deepcopy\n",
    "from numpy import random as np_random\n",
    "from sklearn.tree import DecisionTreeRegressor\n",
    "from sklearn import linear_model"
   ]
  },
  {
   "cell_type": "code",
   "execution_count": 2,
   "metadata": {},
   "outputs": [],
   "source": [
    "import pandas as pd"
   ]
  },
  {
   "cell_type": "code",
   "execution_count": 3,
   "metadata": {},
   "outputs": [
    {
     "name": "stdout",
     "output_type": "stream",
     "text": [
      "<class 'pandas.core.frame.DataFrame'>\n",
      "RangeIndex: 41188 entries, 0 to 41187\n",
      "Data columns (total 21 columns):\n",
      "age               41188 non-null int64\n",
      "job               41188 non-null object\n",
      "marital           41188 non-null object\n",
      "education         41188 non-null object\n",
      "default           41188 non-null object\n",
      "housing           41188 non-null object\n",
      "loan              41188 non-null object\n",
      "contact           41188 non-null object\n",
      "month             41188 non-null object\n",
      "day_of_week       41188 non-null object\n",
      "duration          41188 non-null int64\n",
      "campaign          41188 non-null int64\n",
      "pdays             41188 non-null int64\n",
      "previous          41188 non-null int64\n",
      "poutcome          41188 non-null object\n",
      "emp.var.rate      41188 non-null float64\n",
      "cons.price.idx    41188 non-null float64\n",
      "cons.conf.idx     41188 non-null float64\n",
      "euribor3m         41188 non-null float64\n",
      "nr.employed       41188 non-null float64\n",
      "y                 41188 non-null object\n",
      "dtypes: float64(5), int64(5), object(11)\n",
      "memory usage: 6.6+ MB\n",
      "None\n"
     ]
    },
    {
     "data": {
      "text/html": [
       "<div>\n",
       "<style scoped>\n",
       "    .dataframe tbody tr th:only-of-type {\n",
       "        vertical-align: middle;\n",
       "    }\n",
       "\n",
       "    .dataframe tbody tr th {\n",
       "        vertical-align: top;\n",
       "    }\n",
       "\n",
       "    .dataframe thead th {\n",
       "        text-align: right;\n",
       "    }\n",
       "</style>\n",
       "<table border=\"1\" class=\"dataframe\">\n",
       "  <thead>\n",
       "    <tr style=\"text-align: right;\">\n",
       "      <th></th>\n",
       "      <th>age</th>\n",
       "      <th>job</th>\n",
       "      <th>marital</th>\n",
       "      <th>education</th>\n",
       "      <th>default</th>\n",
       "      <th>housing</th>\n",
       "      <th>loan</th>\n",
       "      <th>contact</th>\n",
       "      <th>month</th>\n",
       "      <th>day_of_week</th>\n",
       "      <th>...</th>\n",
       "      <th>campaign</th>\n",
       "      <th>pdays</th>\n",
       "      <th>previous</th>\n",
       "      <th>poutcome</th>\n",
       "      <th>emp.var.rate</th>\n",
       "      <th>cons.price.idx</th>\n",
       "      <th>cons.conf.idx</th>\n",
       "      <th>euribor3m</th>\n",
       "      <th>nr.employed</th>\n",
       "      <th>y</th>\n",
       "    </tr>\n",
       "  </thead>\n",
       "  <tbody>\n",
       "    <tr>\n",
       "      <th>0</th>\n",
       "      <td>56</td>\n",
       "      <td>housemaid</td>\n",
       "      <td>married</td>\n",
       "      <td>basic.4y</td>\n",
       "      <td>no</td>\n",
       "      <td>no</td>\n",
       "      <td>no</td>\n",
       "      <td>telephone</td>\n",
       "      <td>may</td>\n",
       "      <td>mon</td>\n",
       "      <td>...</td>\n",
       "      <td>1</td>\n",
       "      <td>999</td>\n",
       "      <td>0</td>\n",
       "      <td>nonexistent</td>\n",
       "      <td>1.1</td>\n",
       "      <td>93.994</td>\n",
       "      <td>-36.4</td>\n",
       "      <td>4.857</td>\n",
       "      <td>5191.0</td>\n",
       "      <td>no</td>\n",
       "    </tr>\n",
       "    <tr>\n",
       "      <th>1</th>\n",
       "      <td>57</td>\n",
       "      <td>services</td>\n",
       "      <td>married</td>\n",
       "      <td>high.school</td>\n",
       "      <td>unknown</td>\n",
       "      <td>no</td>\n",
       "      <td>no</td>\n",
       "      <td>telephone</td>\n",
       "      <td>may</td>\n",
       "      <td>mon</td>\n",
       "      <td>...</td>\n",
       "      <td>1</td>\n",
       "      <td>999</td>\n",
       "      <td>0</td>\n",
       "      <td>nonexistent</td>\n",
       "      <td>1.1</td>\n",
       "      <td>93.994</td>\n",
       "      <td>-36.4</td>\n",
       "      <td>4.857</td>\n",
       "      <td>5191.0</td>\n",
       "      <td>no</td>\n",
       "    </tr>\n",
       "    <tr>\n",
       "      <th>2</th>\n",
       "      <td>37</td>\n",
       "      <td>services</td>\n",
       "      <td>married</td>\n",
       "      <td>high.school</td>\n",
       "      <td>no</td>\n",
       "      <td>yes</td>\n",
       "      <td>no</td>\n",
       "      <td>telephone</td>\n",
       "      <td>may</td>\n",
       "      <td>mon</td>\n",
       "      <td>...</td>\n",
       "      <td>1</td>\n",
       "      <td>999</td>\n",
       "      <td>0</td>\n",
       "      <td>nonexistent</td>\n",
       "      <td>1.1</td>\n",
       "      <td>93.994</td>\n",
       "      <td>-36.4</td>\n",
       "      <td>4.857</td>\n",
       "      <td>5191.0</td>\n",
       "      <td>no</td>\n",
       "    </tr>\n",
       "    <tr>\n",
       "      <th>3</th>\n",
       "      <td>40</td>\n",
       "      <td>admin.</td>\n",
       "      <td>married</td>\n",
       "      <td>basic.6y</td>\n",
       "      <td>no</td>\n",
       "      <td>no</td>\n",
       "      <td>no</td>\n",
       "      <td>telephone</td>\n",
       "      <td>may</td>\n",
       "      <td>mon</td>\n",
       "      <td>...</td>\n",
       "      <td>1</td>\n",
       "      <td>999</td>\n",
       "      <td>0</td>\n",
       "      <td>nonexistent</td>\n",
       "      <td>1.1</td>\n",
       "      <td>93.994</td>\n",
       "      <td>-36.4</td>\n",
       "      <td>4.857</td>\n",
       "      <td>5191.0</td>\n",
       "      <td>no</td>\n",
       "    </tr>\n",
       "    <tr>\n",
       "      <th>4</th>\n",
       "      <td>56</td>\n",
       "      <td>services</td>\n",
       "      <td>married</td>\n",
       "      <td>high.school</td>\n",
       "      <td>no</td>\n",
       "      <td>no</td>\n",
       "      <td>yes</td>\n",
       "      <td>telephone</td>\n",
       "      <td>may</td>\n",
       "      <td>mon</td>\n",
       "      <td>...</td>\n",
       "      <td>1</td>\n",
       "      <td>999</td>\n",
       "      <td>0</td>\n",
       "      <td>nonexistent</td>\n",
       "      <td>1.1</td>\n",
       "      <td>93.994</td>\n",
       "      <td>-36.4</td>\n",
       "      <td>4.857</td>\n",
       "      <td>5191.0</td>\n",
       "      <td>no</td>\n",
       "    </tr>\n",
       "  </tbody>\n",
       "</table>\n",
       "<p>5 rows × 21 columns</p>\n",
       "</div>"
      ],
      "text/plain": [
       "   age        job  marital    education  default housing loan    contact  \\\n",
       "0   56  housemaid  married     basic.4y       no      no   no  telephone   \n",
       "1   57   services  married  high.school  unknown      no   no  telephone   \n",
       "2   37   services  married  high.school       no     yes   no  telephone   \n",
       "3   40     admin.  married     basic.6y       no      no   no  telephone   \n",
       "4   56   services  married  high.school       no      no  yes  telephone   \n",
       "\n",
       "  month day_of_week  ...  campaign  pdays  previous     poutcome emp.var.rate  \\\n",
       "0   may         mon  ...         1    999         0  nonexistent          1.1   \n",
       "1   may         mon  ...         1    999         0  nonexistent          1.1   \n",
       "2   may         mon  ...         1    999         0  nonexistent          1.1   \n",
       "3   may         mon  ...         1    999         0  nonexistent          1.1   \n",
       "4   may         mon  ...         1    999         0  nonexistent          1.1   \n",
       "\n",
       "   cons.price.idx  cons.conf.idx  euribor3m  nr.employed   y  \n",
       "0          93.994          -36.4      4.857       5191.0  no  \n",
       "1          93.994          -36.4      4.857       5191.0  no  \n",
       "2          93.994          -36.4      4.857       5191.0  no  \n",
       "3          93.994          -36.4      4.857       5191.0  no  \n",
       "4          93.994          -36.4      4.857       5191.0  no  \n",
       "\n",
       "[5 rows x 21 columns]"
      ]
     },
     "execution_count": 3,
     "metadata": {},
     "output_type": "execute_result"
    }
   ],
   "source": [
    "dataframe = pd.read_csv(r\"C:\\Users\\ashukla\\Documents\\DS\\bank1.csv\")\n",
    "print (dataframe.info())\n",
    "dataframe.head(5)"
   ]
  },
  {
   "cell_type": "code",
   "execution_count": 4,
   "metadata": {},
   "outputs": [
    {
     "data": {
      "text/plain": [
       "array(['age', 'job', 'marital', 'education', 'default', 'housing', 'loan',\n",
       "       'contact', 'month', 'day_of_week', 'duration', 'campaign', 'pdays',\n",
       "       'previous', 'poutcome', 'emp.var.rate', 'cons.price.idx',\n",
       "       'cons.conf.idx', 'euribor3m', 'nr.employed', 'y'], dtype=object)"
      ]
     },
     "execution_count": 4,
     "metadata": {},
     "output_type": "execute_result"
    }
   ],
   "source": [
    "dataframe.columns.values"
   ]
  },
  {
   "cell_type": "markdown",
   "metadata": {},
   "source": [
    "# Perform a brief exploratory analysis"
   ]
  },
  {
   "cell_type": "code",
   "execution_count": 5,
   "metadata": {},
   "outputs": [
    {
     "name": "stdout",
     "output_type": "stream",
     "text": [
      "----------\n",
      "int64\n",
      "count    41188.00000\n",
      "mean        40.02406\n",
      "std         10.42125\n",
      "min         17.00000\n",
      "25%         32.00000\n",
      "50%         38.00000\n",
      "75%         47.00000\n",
      "max         98.00000\n",
      "Name: age, dtype: float64\n",
      "----------\n",
      "object\n",
      "admin.           10422\n",
      "blue-collar       9254\n",
      "technician        6743\n",
      "services          3969\n",
      "management        2924\n",
      "retired           1720\n",
      "entrepreneur      1456\n",
      "self-employed     1421\n",
      "housemaid         1060\n",
      "unemployed        1014\n",
      "student            875\n",
      "unknown            330\n",
      "Name: job, dtype: int64\n",
      "Name:  job\n",
      "----------\n",
      "object\n",
      "married     24928\n",
      "single      11568\n",
      "divorced     4612\n",
      "unknown        80\n",
      "Name: marital, dtype: int64\n",
      "Name:  marital\n",
      "----------\n",
      "object\n",
      "university.degree      12168\n",
      "high.school             9515\n",
      "basic.9y                6045\n",
      "professional.course     5243\n",
      "basic.4y                4176\n",
      "basic.6y                2292\n",
      "unknown                 1731\n",
      "illiterate                18\n",
      "Name: education, dtype: int64\n",
      "Name:  education\n",
      "----------\n",
      "object\n",
      "no         32588\n",
      "unknown     8597\n",
      "yes            3\n",
      "Name: default, dtype: int64\n",
      "Name:  default\n",
      "----------\n",
      "object\n",
      "yes        21576\n",
      "no         18622\n",
      "unknown      990\n",
      "Name: housing, dtype: int64\n",
      "Name:  housing\n",
      "----------\n",
      "object\n",
      "no         33950\n",
      "yes         6248\n",
      "unknown      990\n",
      "Name: loan, dtype: int64\n",
      "Name:  loan\n",
      "----------\n",
      "object\n",
      "cellular     26144\n",
      "telephone    15044\n",
      "Name: contact, dtype: int64\n",
      "Name:  contact\n",
      "----------\n",
      "object\n",
      "may    13769\n",
      "jul     7174\n",
      "aug     6178\n",
      "jun     5318\n",
      "nov     4101\n",
      "apr     2632\n",
      "oct      718\n",
      "sep      570\n",
      "mar      546\n",
      "dec      182\n",
      "Name: month, dtype: int64\n",
      "Name:  month\n",
      "----------\n",
      "object\n",
      "thu    8623\n",
      "mon    8514\n",
      "wed    8134\n",
      "tue    8090\n",
      "fri    7827\n",
      "Name: day_of_week, dtype: int64\n",
      "Name:  day_of_week\n",
      "----------\n",
      "int64\n",
      "count    41188.000000\n",
      "mean       258.285010\n",
      "std        259.279249\n",
      "min          0.000000\n",
      "25%        102.000000\n",
      "50%        180.000000\n",
      "75%        319.000000\n",
      "max       4918.000000\n",
      "Name: duration, dtype: float64\n",
      "----------\n",
      "int64\n",
      "count    41188.000000\n",
      "mean         2.567593\n",
      "std          2.770014\n",
      "min          1.000000\n",
      "25%          1.000000\n",
      "50%          2.000000\n",
      "75%          3.000000\n",
      "max         56.000000\n",
      "Name: campaign, dtype: float64\n",
      "----------\n",
      "int64\n",
      "count    41188.000000\n",
      "mean       962.475454\n",
      "std        186.910907\n",
      "min          0.000000\n",
      "25%        999.000000\n",
      "50%        999.000000\n",
      "75%        999.000000\n",
      "max        999.000000\n",
      "Name: pdays, dtype: float64\n",
      "----------\n",
      "int64\n",
      "count    41188.000000\n",
      "mean         0.172963\n",
      "std          0.494901\n",
      "min          0.000000\n",
      "25%          0.000000\n",
      "50%          0.000000\n",
      "75%          0.000000\n",
      "max          7.000000\n",
      "Name: previous, dtype: float64\n",
      "----------\n",
      "object\n",
      "nonexistent    35563\n",
      "failure         4252\n",
      "success         1373\n",
      "Name: poutcome, dtype: int64\n",
      "Name:  poutcome\n",
      "----------\n",
      "float64\n",
      "count    41188.000000\n",
      "mean         0.081886\n",
      "std          1.570960\n",
      "min         -3.400000\n",
      "25%         -1.800000\n",
      "50%          1.100000\n",
      "75%          1.400000\n",
      "max          1.400000\n",
      "Name: emp.var.rate, dtype: float64\n",
      "----------\n",
      "float64\n",
      "count    41188.000000\n",
      "mean        93.575664\n",
      "std          0.578840\n",
      "min         92.201000\n",
      "25%         93.075000\n",
      "50%         93.749000\n",
      "75%         93.994000\n",
      "max         94.767000\n",
      "Name: cons.price.idx, dtype: float64\n",
      "----------\n",
      "float64\n",
      "count    41188.000000\n",
      "mean       -40.502600\n",
      "std          4.628198\n",
      "min        -50.800000\n",
      "25%        -42.700000\n",
      "50%        -41.800000\n",
      "75%        -36.400000\n",
      "max        -26.900000\n",
      "Name: cons.conf.idx, dtype: float64\n",
      "----------\n",
      "float64\n",
      "count    41188.000000\n",
      "mean         3.621291\n",
      "std          1.734447\n",
      "min          0.634000\n",
      "25%          1.344000\n",
      "50%          4.857000\n",
      "75%          4.961000\n",
      "max          5.045000\n",
      "Name: euribor3m, dtype: float64\n",
      "----------\n",
      "float64\n",
      "count    41188.000000\n",
      "mean      5167.035911\n",
      "std         72.251528\n",
      "min       4963.600000\n",
      "25%       5099.100000\n",
      "50%       5191.000000\n",
      "75%       5228.100000\n",
      "max       5228.100000\n",
      "Name: nr.employed, dtype: float64\n",
      "----------\n",
      "object\n",
      "no     36548\n",
      "yes     4640\n",
      "Name: y, dtype: int64\n",
      "Name:  y\n"
     ]
    }
   ],
   "source": [
    "\n",
    "\n",
    "def examine_data_frame( df):\n",
    "    for name in df.columns:\n",
    "        print (\"----------\")\n",
    "        print (df[ name].dtype)\n",
    "        if df[ name].dtype is np.dtype( 'O'):\n",
    "            print (df[ name].value_counts())\n",
    "            print (\"Name: \", name)\n",
    "        else:\n",
    "            print ((df[ name].describe()))\n",
    "\n",
    "examine_data_frame(dataframe)\n",
    "\n"
   ]
  },
  {
   "cell_type": "code",
   "execution_count": 6,
   "metadata": {},
   "outputs": [
    {
     "data": {
      "text/html": [
       "<div>\n",
       "<style scoped>\n",
       "    .dataframe tbody tr th:only-of-type {\n",
       "        vertical-align: middle;\n",
       "    }\n",
       "\n",
       "    .dataframe tbody tr th {\n",
       "        vertical-align: top;\n",
       "    }\n",
       "\n",
       "    .dataframe thead th {\n",
       "        text-align: right;\n",
       "    }\n",
       "</style>\n",
       "<table border=\"1\" class=\"dataframe\">\n",
       "  <thead>\n",
       "    <tr style=\"text-align: right;\">\n",
       "      <th></th>\n",
       "      <th>job_admin.</th>\n",
       "      <th>job_blue-collar</th>\n",
       "      <th>job_entrepreneur</th>\n",
       "      <th>job_housemaid</th>\n",
       "      <th>job_management</th>\n",
       "      <th>job_retired</th>\n",
       "      <th>job_self-employed</th>\n",
       "      <th>job_services</th>\n",
       "      <th>job_student</th>\n",
       "      <th>job_technician</th>\n",
       "      <th>...</th>\n",
       "      <th>campaign</th>\n",
       "      <th>pdays</th>\n",
       "      <th>previous</th>\n",
       "      <th>poutcome</th>\n",
       "      <th>emp.var.rate</th>\n",
       "      <th>cons.price.idx</th>\n",
       "      <th>cons.conf.idx</th>\n",
       "      <th>euribor3m</th>\n",
       "      <th>nr.employed</th>\n",
       "      <th>y</th>\n",
       "    </tr>\n",
       "  </thead>\n",
       "  <tbody>\n",
       "    <tr>\n",
       "      <th>0</th>\n",
       "      <td>0</td>\n",
       "      <td>0</td>\n",
       "      <td>0</td>\n",
       "      <td>1</td>\n",
       "      <td>0</td>\n",
       "      <td>0</td>\n",
       "      <td>0</td>\n",
       "      <td>0</td>\n",
       "      <td>0</td>\n",
       "      <td>0</td>\n",
       "      <td>...</td>\n",
       "      <td>1</td>\n",
       "      <td>999</td>\n",
       "      <td>0</td>\n",
       "      <td>nonexistent</td>\n",
       "      <td>1.1</td>\n",
       "      <td>93.994</td>\n",
       "      <td>-36.4</td>\n",
       "      <td>4.857</td>\n",
       "      <td>5191.0</td>\n",
       "      <td>no</td>\n",
       "    </tr>\n",
       "    <tr>\n",
       "      <th>1</th>\n",
       "      <td>0</td>\n",
       "      <td>0</td>\n",
       "      <td>0</td>\n",
       "      <td>0</td>\n",
       "      <td>0</td>\n",
       "      <td>0</td>\n",
       "      <td>0</td>\n",
       "      <td>1</td>\n",
       "      <td>0</td>\n",
       "      <td>0</td>\n",
       "      <td>...</td>\n",
       "      <td>1</td>\n",
       "      <td>999</td>\n",
       "      <td>0</td>\n",
       "      <td>nonexistent</td>\n",
       "      <td>1.1</td>\n",
       "      <td>93.994</td>\n",
       "      <td>-36.4</td>\n",
       "      <td>4.857</td>\n",
       "      <td>5191.0</td>\n",
       "      <td>no</td>\n",
       "    </tr>\n",
       "    <tr>\n",
       "      <th>2</th>\n",
       "      <td>0</td>\n",
       "      <td>0</td>\n",
       "      <td>0</td>\n",
       "      <td>0</td>\n",
       "      <td>0</td>\n",
       "      <td>0</td>\n",
       "      <td>0</td>\n",
       "      <td>1</td>\n",
       "      <td>0</td>\n",
       "      <td>0</td>\n",
       "      <td>...</td>\n",
       "      <td>1</td>\n",
       "      <td>999</td>\n",
       "      <td>0</td>\n",
       "      <td>nonexistent</td>\n",
       "      <td>1.1</td>\n",
       "      <td>93.994</td>\n",
       "      <td>-36.4</td>\n",
       "      <td>4.857</td>\n",
       "      <td>5191.0</td>\n",
       "      <td>no</td>\n",
       "    </tr>\n",
       "    <tr>\n",
       "      <th>3</th>\n",
       "      <td>1</td>\n",
       "      <td>0</td>\n",
       "      <td>0</td>\n",
       "      <td>0</td>\n",
       "      <td>0</td>\n",
       "      <td>0</td>\n",
       "      <td>0</td>\n",
       "      <td>0</td>\n",
       "      <td>0</td>\n",
       "      <td>0</td>\n",
       "      <td>...</td>\n",
       "      <td>1</td>\n",
       "      <td>999</td>\n",
       "      <td>0</td>\n",
       "      <td>nonexistent</td>\n",
       "      <td>1.1</td>\n",
       "      <td>93.994</td>\n",
       "      <td>-36.4</td>\n",
       "      <td>4.857</td>\n",
       "      <td>5191.0</td>\n",
       "      <td>no</td>\n",
       "    </tr>\n",
       "    <tr>\n",
       "      <th>4</th>\n",
       "      <td>0</td>\n",
       "      <td>0</td>\n",
       "      <td>0</td>\n",
       "      <td>0</td>\n",
       "      <td>0</td>\n",
       "      <td>0</td>\n",
       "      <td>0</td>\n",
       "      <td>1</td>\n",
       "      <td>0</td>\n",
       "      <td>0</td>\n",
       "      <td>...</td>\n",
       "      <td>1</td>\n",
       "      <td>999</td>\n",
       "      <td>0</td>\n",
       "      <td>nonexistent</td>\n",
       "      <td>1.1</td>\n",
       "      <td>93.994</td>\n",
       "      <td>-36.4</td>\n",
       "      <td>4.857</td>\n",
       "      <td>5191.0</td>\n",
       "      <td>no</td>\n",
       "    </tr>\n",
       "  </tbody>\n",
       "</table>\n",
       "<p>5 rows × 74 columns</p>\n",
       "</div>"
      ],
      "text/plain": [
       "   job_admin.  job_blue-collar  job_entrepreneur  job_housemaid  \\\n",
       "0           0                0                 0              1   \n",
       "1           0                0                 0              0   \n",
       "2           0                0                 0              0   \n",
       "3           1                0                 0              0   \n",
       "4           0                0                 0              0   \n",
       "\n",
       "   job_management  job_retired  job_self-employed  job_services  job_student  \\\n",
       "0               0            0                  0             0            0   \n",
       "1               0            0                  0             1            0   \n",
       "2               0            0                  0             1            0   \n",
       "3               0            0                  0             0            0   \n",
       "4               0            0                  0             1            0   \n",
       "\n",
       "   job_technician  ...  campaign  pdays  previous     poutcome  emp.var.rate  \\\n",
       "0               0  ...         1    999         0  nonexistent           1.1   \n",
       "1               0  ...         1    999         0  nonexistent           1.1   \n",
       "2               0  ...         1    999         0  nonexistent           1.1   \n",
       "3               0  ...         1    999         0  nonexistent           1.1   \n",
       "4               0  ...         1    999         0  nonexistent           1.1   \n",
       "\n",
       "   cons.price.idx  cons.conf.idx  euribor3m  nr.employed   y  \n",
       "0          93.994          -36.4      4.857       5191.0  no  \n",
       "1          93.994          -36.4      4.857       5191.0  no  \n",
       "2          93.994          -36.4      4.857       5191.0  no  \n",
       "3          93.994          -36.4      4.857       5191.0  no  \n",
       "4          93.994          -36.4      4.857       5191.0  no  \n",
       "\n",
       "[5 rows x 74 columns]"
      ]
     },
     "execution_count": 6,
     "metadata": {},
     "output_type": "execute_result"
    }
   ],
   "source": [
    "cols =['job', 'marital', 'education', 'default', 'housing', 'loan',\n",
    "       'contact', 'month', 'day_of_week', 'poutcome']\n",
    "data_1 = dataframe[cols]\n",
    "data_dummies = pd.get_dummies(data_1)\n",
    "result_df = pd.concat([data_dummies, dataframe], axis=1)\n",
    "result_df.head()"
   ]
  },
  {
   "cell_type": "code",
   "execution_count": 7,
   "metadata": {},
   "outputs": [
    {
     "data": {
      "text/plain": [
       "array(['job_admin.', 'job_blue-collar', 'job_entrepreneur',\n",
       "       'job_housemaid', 'job_management', 'job_retired',\n",
       "       'job_self-employed', 'job_services', 'job_student',\n",
       "       'job_technician', 'job_unemployed', 'job_unknown',\n",
       "       'marital_divorced', 'marital_married', 'marital_single',\n",
       "       'marital_unknown', 'education_basic.4y', 'education_basic.6y',\n",
       "       'education_basic.9y', 'education_high.school',\n",
       "       'education_illiterate', 'education_professional.course',\n",
       "       'education_university.degree', 'education_unknown', 'default_no',\n",
       "       'default_unknown', 'default_yes', 'housing_no', 'housing_unknown',\n",
       "       'housing_yes', 'loan_no', 'loan_unknown', 'loan_yes',\n",
       "       'contact_cellular', 'contact_telephone', 'month_apr', 'month_aug',\n",
       "       'month_dec', 'month_jul', 'month_jun', 'month_mar', 'month_may',\n",
       "       'month_nov', 'month_oct', 'month_sep', 'day_of_week_fri',\n",
       "       'day_of_week_mon', 'day_of_week_thu', 'day_of_week_tue',\n",
       "       'day_of_week_wed', 'poutcome_failure', 'poutcome_nonexistent',\n",
       "       'poutcome_success', 'age', 'job', 'marital', 'education',\n",
       "       'default', 'housing', 'loan', 'contact', 'month', 'day_of_week',\n",
       "       'duration', 'campaign', 'pdays', 'previous', 'poutcome',\n",
       "       'emp.var.rate', 'cons.price.idx', 'cons.conf.idx', 'euribor3m',\n",
       "       'nr.employed', 'y'], dtype=object)"
      ]
     },
     "execution_count": 7,
     "metadata": {},
     "output_type": "execute_result"
    }
   ],
   "source": [
    "result_df.columns.values # Performed one-hot encoding so that I can use it in EDA"
   ]
  },
  {
   "cell_type": "code",
   "execution_count": 8,
   "metadata": {},
   "outputs": [],
   "source": [
    "result_df['output'] = result_df['y'].apply(lambda x: 1 if x =='yes' else 0)"
   ]
  },
  {
   "cell_type": "markdown",
   "metadata": {},
   "source": [
    "# Comparing Qualitative vs. Quantitative Analysis\n",
    " Number of employees vs. Output"
   ]
  },
  {
   "cell_type": "code",
   "execution_count": 9,
   "metadata": {},
   "outputs": [
    {
     "name": "stdout",
     "output_type": "stream",
     "text": [
      "       y  \n",
      "count  no     36548.000000\n",
      "       yes     4640.000000\n",
      "mean   no      5176.166600\n",
      "       yes     5095.115991\n",
      "std    no        64.571979\n",
      "       yes       87.572641\n",
      "min    no      4963.600000\n",
      "       yes     4963.600000\n",
      "25%    no      5099.100000\n",
      "       yes     5017.500000\n",
      "50%    no      5195.800000\n",
      "       yes     5099.100000\n",
      "75%    no      5228.100000\n",
      "       yes     5191.000000\n",
      "max    no      5228.100000\n",
      "       yes     5228.100000\n",
      "dtype: float64\n"
     ]
    }
   ],
   "source": [
    "grouped = result_df.groupby( \"y\")\n",
    "nr_employed = grouped[ \"nr.employed\"].describe()\n",
    "nr_employed = nr_employed.unstack( level=-1)\n",
    "print (nr_employed)"
   ]
  },
  {
   "cell_type": "markdown",
   "metadata": {},
   "source": [
    "Conclusion:\n",
    "Number of employess (mean) is less for output-yes which suggests that higher number of employees have negative impact on output"
   ]
  },
  {
   "cell_type": "code",
   "execution_count": 10,
   "metadata": {},
   "outputs": [
    {
     "name": "stdout",
     "output_type": "stream",
     "text": [
      "       y  \n",
      "count  no     36548.000000\n",
      "       yes     4640.000000\n",
      "mean   no       984.113878\n",
      "       yes      792.035560\n",
      "std    no       120.656868\n",
      "       yes      403.407181\n",
      "min    no         0.000000\n",
      "       yes        0.000000\n",
      "25%    no       999.000000\n",
      "       yes      999.000000\n",
      "50%    no       999.000000\n",
      "       yes      999.000000\n",
      "75%    no       999.000000\n",
      "       yes      999.000000\n",
      "max    no       999.000000\n",
      "       yes      999.000000\n",
      "dtype: float64\n"
     ]
    }
   ],
   "source": [
    "grouped = result_df.groupby( \"y\")\n",
    "pdays = grouped[ \"pdays\"].describe()\n",
    "pdays = pdays.unstack( level=-1)\n",
    "print (pdays)"
   ]
  },
  {
   "cell_type": "markdown",
   "metadata": {},
   "source": [
    "Conclusion:\n",
    "PDays (mean) is less for output-yes which suggests that higher higher 'pdays' have negative impact on output, which makes sense. Higher 'pdays' i.e. more number of days that passed by after the client was last contacted from a previous campaign, lesser will be chances for bank trem deposits"
   ]
  },
  {
   "cell_type": "markdown",
   "metadata": {},
   "source": [
    "# Qualitative vs. Qualitative\n",
    "Month vs. Output"
   ]
  },
  {
   "cell_type": "code",
   "execution_count": 11,
   "metadata": {},
   "outputs": [
    {
     "name": "stdout",
     "output_type": "stream",
     "text": [
      "y            no       yes\n",
      "month                    \n",
      "apr    0.050816  0.013086\n",
      "aug    0.134092  0.015903\n",
      "dec    0.002258  0.002161\n",
      "jul    0.158420  0.015757\n",
      "jun    0.115543  0.013572\n",
      "mar    0.006555  0.006701\n",
      "may    0.312785  0.021511\n",
      "nov    0.089468  0.010100\n",
      "oct    0.009784  0.007648\n",
      "sep    0.007624  0.006215\n"
     ]
    },
    {
     "data": {
      "text/plain": [
       "<matplotlib.axes._subplots.AxesSubplot at 0x27802e6ecf8>"
      ]
     },
     "execution_count": 11,
     "metadata": {},
     "output_type": "execute_result"
    },
    {
     "data": {
      "image/png": "[encoded data removed]",
      "text/plain": [
       "<Figure size 432x288 with 2 Axes>"
      ]
     },
     "metadata": {
      "needs_background": "light"
     },
     "output_type": "display_data"
    }
   ],
   "source": [
    "frequencies = pd.crosstab( result_df[ \"month\"], result_df[ \"y\"]).apply(lambda r: r/len(result_df))\n",
    "print (frequencies)\n",
    "\n",
    "sns.heatmap( frequencies)"
   ]
  },
  {
   "cell_type": "markdown",
   "metadata": {},
   "source": [
    "Conclusion:\n",
    "\n",
    "Month of May, Jun, July, August & November have negative impact on the output"
   ]
  },
  {
   "cell_type": "markdown",
   "metadata": {},
   "source": [
    "# Compare the performance between a decision tree and a random forest approach by assessing the accuracy of each model"
   ]
  },
  {
   "cell_type": "code",
   "execution_count": 26,
   "metadata": {},
   "outputs": [
    {
     "name": "stdout",
     "output_type": "stream",
     "text": [
      "0.8427796947331055\n"
     ]
    }
   ],
   "source": [
    "# Decision Tree\n",
    "tree_clf = tree.DecisionTreeClassifier()\n",
    "tree_scores = cross_val_score(tree_clf, X_train, y_train, cv=3)\n",
    "tree_mean = tree_scores.mean()\n",
    "print(tree_mean)\n"
   ]
  },
  {
   "cell_type": "code",
   "execution_count": 27,
   "metadata": {},
   "outputs": [
    {
     "name": "stdout",
     "output_type": "stream",
     "text": [
      "0.8913917440620516\n"
     ]
    }
   ],
   "source": [
    "# Random Forest\n",
    "rand_clf = RandomForestClassifier(n_estimators=18)\n",
    "rand_scores = cross_val_score(rand_clf, X_train, y_train, cv=3)\n",
    "rand_mean = rand_scores.mean()\n",
    "print(rand_mean)"
   ]
  },
  {
   "cell_type": "markdown",
   "metadata": {},
   "source": [
    "# Conclusion:\n",
    "Random Forest model was more accurate than Decision Tree.\n"
   ]
  },
  {
   "cell_type": "markdown",
   "metadata": {},
   "source": [
    "# Graph the structure of your decision tree and Graph the confusion matrix of your random forest model"
   ]
  },
  {
   "cell_type": "markdown",
   "metadata": {},
   "source": [
    "Compare the performance between a decision tree and a random forest approach by assessing the accuracy of each model\n",
    "Graph the structure of your decision tree\n",
    "Graph the confusion matrix of your random forest model"
   ]
  },
  {
   "cell_type": "code",
   "execution_count": 12,
   "metadata": {},
   "outputs": [],
   "source": [
    "def error_rate(true_class_data, prediction_model_data):\n",
    "    fp=0.0\n",
    "    fn=0.0\n",
    "    for t, p in zip(true_class_data, prediction_model_data):\n",
    "        if t==0 and p==1:\n",
    "            fp=fp+1\n",
    "        elif t==1 and p==0:\n",
    "            fn=fn+1\n",
    "    return (fp+fn)/len(true_class_data)\n",
    "\n",
    "def cross_validate_10_fold( X, y, model):\n",
    "    ret_scores=[]\n",
    "    data\n",
    "    for n in xrange(3):\n",
    "        model = tree.DecisionTreeClassifier(class_weight=\"balanced\").fit( X, y)\n",
    "\n",
    "        # Evaluate the models using crossvalidation\n",
    "        scores = 1-cross_validation.cross_val_score(model, X, y, scoring=\"accuracy\", cv=10)\n",
    "        for s in scores:\n",
    "            ret_scores.append(s)\n",
    "    sample_thetas=non_param_bootstrap(scores, 10000)\n",
    "    ci=stats.mstats.mquantiles( sample_thetas, [0.05, 0.95])\n",
    "    return ci\n",
    "\n",
    "def resample( data):\n",
    "    n = len( data)\n",
    "    return [ data[ i] for i in [np_random.randint(0, n - 1) for _ in xrange( 0, n)]]\n",
    "\n",
    "def non_param_bootstrap(original_data, num_sampling):\n",
    "    return np.array( [np.mean( sample) for sample in [resample(original_data) for i in xrange( 0, num_sampling)]])"
   ]
  },
  {
   "cell_type": "code",
   "execution_count": 13,
   "metadata": {},
   "outputs": [],
   "source": [
    "result_df2 = result_df[['job_admin.', 'job_blue-collar', 'job_entrepreneur',\n",
    "       'job_housemaid', 'job_management', 'job_retired',\n",
    "       'job_self-employed', 'job_services', 'job_student',\n",
    "       'job_technician', 'job_unemployed', 'job_unknown',\n",
    "       'marital_divorced', 'marital_married', 'marital_single',\n",
    "       'marital_unknown', 'education_basic.4y', 'education_basic.6y',\n",
    "       'education_basic.9y', 'education_high.school',\n",
    "       'education_illiterate', 'education_professional.course',\n",
    "       'education_university.degree', 'education_unknown', 'default_no',\n",
    "       'default_unknown', 'default_yes', 'housing_no', 'housing_unknown',\n",
    "       'housing_yes', 'loan_no', 'loan_unknown', 'loan_yes',\n",
    "       'contact_cellular', 'contact_telephone', 'month_apr', 'month_aug',\n",
    "       'month_dec', 'month_jul', 'month_jun', 'month_mar', 'month_may',\n",
    "       'month_nov', 'month_oct', 'month_sep', 'day_of_week_fri',\n",
    "       'day_of_week_mon', 'day_of_week_thu', 'day_of_week_tue',\n",
    "       'day_of_week_wed', 'poutcome_failure', 'poutcome_nonexistent',\n",
    "       'poutcome_success', 'age','campaign', 'pdays', 'previous', 'emp.var.rate',\n",
    "       'cons.price.idx', 'cons.conf.idx', 'euribor3m', 'nr.employed', 'output']]\n",
    "y = result_df2['output'].values\n",
    "X = result_df2[['job_admin.', 'job_blue-collar', 'job_entrepreneur',\n",
    "       'job_housemaid', 'job_management', 'job_retired',\n",
    "       'job_self-employed', 'job_services', 'job_student',\n",
    "       'job_technician', 'job_unemployed', 'job_unknown',\n",
    "       'marital_divorced', 'marital_married', 'marital_single',\n",
    "       'marital_unknown', 'education_basic.4y', 'education_basic.6y',\n",
    "       'education_basic.9y', 'education_high.school',\n",
    "       'education_illiterate', 'education_professional.course',\n",
    "       'education_university.degree', 'education_unknown', 'default_no',\n",
    "       'default_unknown', 'default_yes', 'housing_no', 'housing_unknown',\n",
    "       'housing_yes', 'loan_no', 'loan_unknown', 'loan_yes',\n",
    "       'contact_cellular', 'contact_telephone', 'month_apr', 'month_aug',\n",
    "       'month_dec', 'month_jul', 'month_jun', 'month_mar', 'month_may',\n",
    "       'month_nov', 'month_oct', 'month_sep', 'day_of_week_fri',\n",
    "       'day_of_week_mon', 'day_of_week_thu', 'day_of_week_tue',\n",
    "       'day_of_week_wed', 'poutcome_failure', 'poutcome_nonexistent',\n",
    "       'poutcome_success', 'age','campaign', 'pdays', 'previous', 'emp.var.rate',\n",
    "       'cons.price.idx', 'cons.conf.idx', 'euribor3m', 'nr.employed']].values"
   ]
  },
  {
   "cell_type": "code",
   "execution_count": 14,
   "metadata": {},
   "outputs": [],
   "source": [
    "from sklearn.model_selection import cross_val_score\n",
    "from sklearn.model_selection import train_test_split\n",
    "from past.builtins import xrange"
   ]
  },
  {
   "cell_type": "code",
   "execution_count": 15,
   "metadata": {},
   "outputs": [],
   "source": [
    "np_random.seed(1)\n",
    "ret_scores=[]\n",
    "\n",
    "for n in xrange(3):\n",
    "    X_train, X_test, y_train, y_test = train_test_split(X, y, test_size=0.1)\n",
    "    model = tree.DecisionTreeClassifier(class_weight = \"balanced\").fit( X_train, y_train)\n",
    "    \n",
    "    # Evaluate the models using crossvalidation\n",
    "    scores = cross_val_score(model, X_test, y_test, cv =10)\n",
    "    for s in scores:\n",
    "        ret_scores.append(s)\n",
    "sample_thetas_1=non_param_bootstrap(scores, 10000)\n",
    "ci_1=stats.mstats.mquantiles( sample_thetas_1, [0.05, 0.95])"
   ]
  },
  {
   "cell_type": "code",
   "execution_count": 16,
   "metadata": {},
   "outputs": [
    {
     "name": "stdout",
     "output_type": "stream",
     "text": [
      "Accuracy for DecisionTreeClassifier: 0.8308367582288451 [0.82124831 0.83996544]\n"
     ]
    }
   ],
   "source": [
    "print ('Accuracy for DecisionTreeClassifier:', np.mean(sample_thetas_1), ci_1)"
   ]
  },
  {
   "cell_type": "code",
   "execution_count": 17,
   "metadata": {},
   "outputs": [
    {
     "data": {
      "text/plain": [
       "DecisionTreeClassifier(class_weight=None, criterion='gini', max_depth=1,\n",
       "                       max_features=None, max_leaf_nodes=None,\n",
       "                       min_impurity_decrease=0.0, min_impurity_split=None,\n",
       "                       min_samples_leaf=1, min_samples_split=2,\n",
       "                       min_weight_fraction_leaf=0.0, presort=False,\n",
       "                       random_state=None, splitter='best')"
      ]
     },
     "execution_count": 17,
     "metadata": {},
     "output_type": "execute_result"
    }
   ],
   "source": [
    "clf = tree.DecisionTreeClassifier(max_depth =1)\n",
    "clf.fit(X,y)"
   ]
  },
  {
   "cell_type": "code",
   "execution_count": 18,
   "metadata": {},
   "outputs": [],
   "source": [
    "tree.export_graphviz(clf,out_file='mytree.dot')"
   ]
  },
  {
   "cell_type": "code",
   "execution_count": 19,
   "metadata": {},
   "outputs": [],
   "source": [
    "features = ['job_admin.', 'job_blue-collar', 'job_entrepreneur',\n",
    "       'job_housemaid', 'job_management', 'job_retired',\n",
    "       'job_self-employed', 'job_services', 'job_student',\n",
    "       'job_technician', 'job_unemployed', 'job_unknown',\n",
    "       'marital_divorced', 'marital_married', 'marital_single',\n",
    "       'marital_unknown', 'education_basic.4y', 'education_basic.6y',\n",
    "       'education_basic.9y', 'education_high.school',\n",
    "       'education_illiterate', 'education_professional.course',\n",
    "       'education_university.degree', 'education_unknown', 'default_no',\n",
    "       'default_unknown', 'default_yes', 'housing_no', 'housing_unknown',\n",
    "       'housing_yes', 'loan_no', 'loan_unknown', 'loan_yes',\n",
    "       'contact_cellular', 'contact_telephone', 'month_apr', 'month_aug',\n",
    "       'month_dec', 'month_jul', 'month_jun', 'month_mar', 'month_may',\n",
    "       'month_nov', 'month_oct', 'month_sep', 'day_of_week_fri',\n",
    "       'day_of_week_mon', 'day_of_week_thu', 'day_of_week_tue',\n",
    "       'day_of_week_wed', 'poutcome_failure', 'poutcome_nonexistent',\n",
    "       'poutcome_success', 'age','campaign', 'pdays', 'previous', 'emp.var.rate',\n",
    "       'cons.price.idx', 'cons.conf.idx', 'euribor3m', 'nr.employed']"
   ]
  },
  {
   "cell_type": "code",
   "execution_count": 20,
   "metadata": {},
   "outputs": [],
   "source": [
    "target = ['output']\n"
   ]
  },
  {
   "cell_type": "code",
   "execution_count": 21,
   "metadata": {},
   "outputs": [],
   "source": [
    "from io import StringIO\n",
    "import matplotlib.pyplot as plt"
   ]
  },
  {
   "cell_type": "code",
   "execution_count": 22,
   "metadata": {},
   "outputs": [],
   "source": [
    "out = StringIO()"
   ]
  },
  {
   "cell_type": "code",
   "execution_count": 23,
   "metadata": {},
   "outputs": [],
   "source": [
    "tree.export_graphviz(clf, out_file = out,feature_names=features,  \n",
    "                         class_names=target,filled=True)"
   ]
  },
  {
   "cell_type": "code",
   "execution_count": 24,
   "metadata": {},
   "outputs": [],
   "source": [
    "graph=pydotplus.graph_from_dot_data(out.getvalue())"
   ]
  },
  {
   "cell_type": "code",
   "execution_count": 25,
   "metadata": {},
   "outputs": [
    {
     "data": {
      "image/png": "[encoded data removed]",
      "text/plain": [
       "<IPython.core.display.Image object>"
      ]
     },
     "execution_count": 25,
     "metadata": {},
     "output_type": "execute_result"
    }
   ],
   "source": [
    "Image(graph.create_png())"
   ]
  },
  {
   "cell_type": "markdown",
   "metadata": {},
   "source": [
    "You can also make a prediction for a single item, for example:\n",
    "sepal length = 3\n",
    "sepal width = 5\n",
    "petal length = 4\n",
    "petal width = 2\n",
    "Now you can predict which type of flower it is."
   ]
  },
  {
   "cell_type": "code",
   "execution_count": null,
   "metadata": {},
   "outputs": [],
   "source": [
    "clf.predict([[3, 5, 4, 2]])"
   ]
  },
  {
   "cell_type": "code",
   "execution_count": null,
   "metadata": {},
   "outputs": [],
   "source": []
  },
  {
   "cell_type": "markdown",
   "metadata": {},
   "source": [
    "Finding Important Features in Scikit-learn\n",
    "Here, you are finding important features or selecting features in the Bank dataset. In scikit-learn, you can perform this task in the following steps:\n",
    "First, you need to create a random forests model.\n",
    "Second, use the feature importance variable to see feature importance scores.\n",
    "Third, visualize these scores using the seaborn library."
   ]
  },
  {
   "cell_type": "code",
   "execution_count": 73,
   "metadata": {},
   "outputs": [],
   "source": [
    "import pandas as pd\n",
    "from sklearn.model_selection import train_test_split\n",
    "from sklearn.ensemble import RandomForestClassifier\n",
    "from sklearn.metrics import accuracy_score\n",
    "from sklearn.metrics import confusion_matrix"
   ]
  },
  {
   "cell_type": "code",
   "execution_count": 74,
   "metadata": {},
   "outputs": [],
   "source": [
    "def random_forest_classifier(features, target):\n",
    "    \"\"\"\n",
    "    To train the random forest classifier with features and target data\n",
    "    :param features:\n",
    "    :param target:\n",
    "    :return: trained random forest classifier\n",
    "    \"\"\"\n",
    "    clf = RandomForestClassifier()\n",
    "    clf.fit(features, target)\n",
    "    return clf"
   ]
  },
  {
   "cell_type": "code",
   "execution_count": 83,
   "metadata": {},
   "outputs": [],
   "source": [
    "def dataset_statistics(dataframe):\n",
    "    \"\"\"\n",
    "    Basic statistics of the dataset\n",
    "    :param dataset: Pandas dataframe\n",
    "    :return: None, print the basic statistics of the dataset\n",
    "    \"\"\"\n",
    "    print (dataframe.describe())"
   ]
  },
  {
   "cell_type": "code",
   "execution_count": 84,
   "metadata": {},
   "outputs": [],
   "source": [
    "def main():\n",
    "    \"\"\"\n",
    "    Main function\n",
    "    :return:\n",
    "    \"\"\"\n",
    "    # Load the csv file into pandas dataframe\n",
    "    dataframe = pd.read_csv(OUTPUT_PATH)\n",
    "    # Get basic statistics of the loaded dataset\n",
    "    dataset_statistics(dataframe)\n",
    " \n",
    "    # Filter missing values\n",
    "    dataset = handel_missing_values(dataframe, HEADERS[6], '?')\n",
    "    X_train, X_test, y_train, y_test = split_dataset(dataframe, 0.7, HEADERS[1:-1], HEADERS[-1])\n",
    " \n",
    "    # Train and Test dataset size details\n",
    "    print (\"X_train Shape :: \", X_train.shape)\n",
    "    print (\"y_train Shape :: \", y_train.shape)\n",
    "    print (\"X_test Shape :: \", X_test.shape)\n",
    "    print (\"y_test Shape :: \", y_test.shape)"
   ]
  },
  {
   "cell_type": "code",
   "execution_count": 85,
   "metadata": {},
   "outputs": [
    {
     "name": "stderr",
     "output_type": "stream",
     "text": [
      "C:\\Users\\ashukla\\Anaconda3\\lib\\site-packages\\sklearn\\ensemble\\forest.py:245: FutureWarning: The default value of n_estimators will change from 10 in version 0.20 to 100 in 0.22.\n",
      "  \"10 in version 0.20 to 100 in 0.22.\", FutureWarning)\n"
     ]
    },
    {
     "name": "stdout",
     "output_type": "stream",
     "text": [
      "Trained model ::  RandomForestClassifier(bootstrap=True, class_weight=None, criterion='gini',\n",
      "                       max_depth=None, max_features='auto', max_leaf_nodes=None,\n",
      "                       min_impurity_decrease=0.0, min_impurity_split=None,\n",
      "                       min_samples_leaf=1, min_samples_split=2,\n",
      "                       min_weight_fraction_leaf=0.0, n_estimators=10,\n",
      "                       n_jobs=None, oob_score=False, random_state=None,\n",
      "                       verbose=0, warm_start=False)\n"
     ]
    }
   ],
   "source": [
    "# Create random forest classifier instance\n",
    "trained_model = random_forest_classifier(X_train, y_train)\n",
    "print (\"Trained model :: \", trained_model)\n",
    "predictions = trained_model.predict(X_test)\n"
   ]
  },
  {
   "cell_type": "code",
   "execution_count": 86,
   "metadata": {},
   "outputs": [
    {
     "name": "stdout",
     "output_type": "stream",
     "text": [
      "Actual outcome :: 0 and Predicted outcome :: 0\n",
      "Actual outcome :: 1 and Predicted outcome :: 0\n",
      "Actual outcome :: 0 and Predicted outcome :: 0\n",
      "Actual outcome :: 0 and Predicted outcome :: 0\n",
      "Actual outcome :: 0 and Predicted outcome :: 0\n"
     ]
    }
   ],
   "source": [
    " \n",
    "for i in xrange(0, 5):\n",
    "        print (\"Actual outcome :: {} and Predicted outcome :: {}\".format(list(y_test)[i], predictions[i]))\n"
   ]
  },
  {
   "cell_type": "code",
   "execution_count": 87,
   "metadata": {},
   "outputs": [
    {
     "name": "stdout",
     "output_type": "stream",
     "text": [
      "Train Accuracy ::  0.9827269258783948\n",
      "Test Accuracy  ::  0.8874322246499959\n",
      "Confusion matrix  [[10621   325]\n",
      " [ 1066   345]]\n"
     ]
    }
   ],
   "source": [
    " \n",
    "print (\"Train Accuracy :: \", accuracy_score(y_train, trained_model.predict(X_train)))\n",
    "print (\"Test Accuracy  :: \", accuracy_score(y_test, predictions))\n",
    "print (\"Confusion matrix \", confusion_matrix(y_test, predictions))"
   ]
  }
 ],
 "metadata": {
  "kernelspec": {
   "display_name": "Python 3",
   "language": "python",
   "name": "python3"
  },
  "language_info": {
   "codemirror_mode": {
    "name": "ipython",
    "version": 3
   },
   "file_extension": ".py",
   "mimetype": "text/x-python",
   "name": "python",
   "nbconvert_exporter": "python",
   "pygments_lexer": "ipython3",
   "version": "3.7.1"
  }
 },
 "nbformat": 4,
 "nbformat_minor": 2
}
