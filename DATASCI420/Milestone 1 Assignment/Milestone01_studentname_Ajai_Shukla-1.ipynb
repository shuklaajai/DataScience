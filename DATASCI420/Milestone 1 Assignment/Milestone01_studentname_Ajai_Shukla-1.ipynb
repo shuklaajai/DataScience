{
 "cells": [
  {
   "cell_type": "markdown",
   "metadata": {},
   "source": [
    "Milestone01_studentname.ipynb\n",
    "Author: Ajai Shukla\n",
    "\n",
    "Instructions\n",
    "Assume the 591 attributes represent different sensors readings across the manufacturing process. \n",
    "\n",
    "Using the SECOM dataset (Links to an external site.), create a new notebook, and perform each of the following tasks and answer the related questions:\n",
    "\n",
    "Refine your data understanding and prepare a DFD of solving the manufacturing quality problem\n",
    "Read and merge data\n",
    "Clean and prepare data \n",
    "Visually explore data\n",
    "Handle class imbalance problem\n",
    "Apply feature selection techniques to reduce dimensionality of data\n",
    "What are your initial findings? Describe them in a summary section"
   ]
  },
  {
   "cell_type": "markdown",
   "metadata": {},
   "source": [
    "# Refine your data understanding and prepare a DFD of solving the manufacturing quality problem"
   ]
  },
  {
   "cell_type": "markdown",
   "metadata": {},
   "source": [
    "The process in the semiconductor industry is highly complicated and is normally under consistent observation via the monitoring of the signals coming from several sensors. Thus, it is important for the organization to detect the fault in the sensor as quickly as possible. There are existing traditional statistical based techniques however modern semiconductor industries have the ability to produce more data which is beyond the capability of the traditional process.\n",
    "\n",
    "For this article, we will be using SECOM dataset which is available here. A lot of work has already done on this dataset by different authors and there are also some articles available online. In this article, we will focus on problem definition, data understanding, and data cleaning.\n",
    "\n",
    "This article is only the first of three parts, in this article we will discuss the business problem in hand and clean the dataset. In second part we will do feature engineering and in the last article we will build some models and evaluate them.\n",
    "\n",
    "We will be using SECOM dataset which is available here. In this assignments, we will focus on problem definition, data understanding, and data cleaning.\n",
    "\n",
    "Problem definition\n",
    "This data which is collected by these sensors not only contains relevant information but also a lot of noise. The dataset contains readings from 591. Among the 1567 examples, there are only 104 fail cases which means that out target variable is imbalanced. We will look at the distribution of the dataset when we look at the python code.\n",
    "\n",
    "Data Understanding and Preparation Let’s start exploring the dataset now. The first step as always is to import the required libraries.\n",
    "• Objective - To predict the yield of a semiconductor manufacturing process to optimize processes and increase throughput.\n",
    "• Strategy - Perform data cleaning followed by feature selection techniques to preserve only most relevant signals. Compare and choose among various classification techniques to find the classifier that has the best fault detection performance.\n",
    "\n",
    "# Data Pre-processing:\n",
    "Removing/Imputing missing values \n",
    "• Removed columns where the percentage of missing values >= 50% resulting in 562 columns.\n",
    "• Removed columns with zero variance (constant values) as they don’t contribute in decision making and ended up with 446 columns.\n",
    "• Imputing the columns with < 50% missing values with mean(x) +rnorm(length(missing(x)))*sd(x) to prevent inflation of significance of results.\n",
    "\n",
    "Balancing the Class:\n",
    "• The dataset suffers from Rare Event problem, where majority class (Pass) is 93.4% and minority class (Fail) occurs only 6.6% among the observations, leading to severe imbalance in prediction by the fitted models (almost all the models indicated 0% sensitivity).\n",
    "• We used Synthetic Data Generation and created a balanced dataset using SMOTE by over-sampling minority class and under-sampling majority class. We did not use Random Oversampling to avoid overfitting and preserve information.\n",
    "\n",
    "# Feature Selection, Model Assessment and Selection\n",
    "\n",
    "Feature Selection:\n",
    "\n",
    "• As all of the given signals (predictors) are not equally valuable, feature selection is performed to identify the most\n",
    "relevant signals and eliminate noise from further data analysis.\n",
    "• Principal components (PC) are created for the cleaned dataset and the first 100 PCs that explain 83% of variance in the\n",
    "dataset are chosen as subsets to fit classification models.\n",
    "• LASSO was used for feature selection on entire predictor space and PCA was ultimately chosen as it had better performance\n",
    "\n",
    "Pre-processing:\n",
    "\n",
    "• Encoding the classes: The class “- 1” of response variable is encoded as “Pass” and “1” is encoded as “Fail” \n",
    "• Merging predictors and response: The encoded response variables are merged to the dataset containing Principal Components. \n",
    "• Train-test split: The merged dataset thus generated is split into training set consisting of 80% of observations and test set with 20% of observations.\n",
    "\n",
    "Model Assessment and Selection:\n",
    "• Models are assessed based on classification performance measures namely Sensitivity, Specificity, Accuracy and Error Rate. \n",
    "• Best model will be chosen based on high Sensitivity value as well as better trade-off between Sensitivity and Specificity.\n",
    "\n",
    "# Classification Methods Used\n",
    "\n",
    "Logistic regression\n",
    "• LDA\n",
    "• kNN\n",
    "• Support Vector Machines (Linear, Polynomial and Radial kernels)\n",
    "• Decision Tree (Pruned, Unpruned)\n",
    "• Ensemble learning (Random Forest, Bagging, Boosting\n",
    "\n",
    "# Model Selection Strategy\n",
    "• As the data consists of uneven class distribution, Sensitivity and Specificity are used as performance measures than error rate. This is because in cases where the model accuracy is near ideal, the Sensitivity (% of fail cases) could be as low as 0%. \n",
    "• The model that has good trade-off between Sensitivity and Specificity is chosen as the final model as we aim to accurately predict all failures while still minimizing the False Positives for ‘Pass’ cases.\n",
    "\n",
    "# Conclusion\n",
    "• Increase process throughput: Throughput in manufacturing is defined as the average output over a period of time. By using the selected model, products that would fall under ‘Pass’ category are identified, and manufacturing times could be prioritized, and efficient scheduling can be done to maximize throughput. \n",
    "• Predict yield: The yield/performance of a given process could be quantified by estimating the number of semiconductors that fall under ‘Pass’ and ‘Fail’ categories. High value for ‘Pass’ indicates that the process is efficient and provides high yield. kNN model being selected is known for its consistent performance, as it doesn’t make any assumptions about the data (non-parametric). Even when the dataset grows by a lot over time, kNN can be expected to predict yield accurately and consistently.\n",
    "\n",
    "Reduced time to learn: High dimensional problems have the challenge of methods being unable to converge, thereby taking a very long time to train. Using PCA for variable reduction and normalizing the data greatly reduced the dimensionality. This highly reduced the learning time of the classification models.\n",
    " • Decrease in per unit production cost: The defective semiconductors (‘Fail’ classes) identified by the model will undergo corrective processing steps in the later stages of the manufacturing process, which allows engineers to adjust and fix them in time, thereby optimizing production and reducing costs.\n"
   ]
  },
  {
   "cell_type": "markdown",
   "metadata": {},
   "source": [
    "# Conclusion\n",
    "• Increase process throughput: Throughput in manufacturing is defined as the average output over a period of time. By using the selected model, products that would fall under ‘Pass’ category are identified, and manufacturing times could be prioritized, and efficient scheduling can be done to maximize throughput. \n",
    "• Predict yield: The yield/performance of a given process could be quantified by estimating the number of semiconductors that fall under ‘Pass’ and ‘Fail’ categories. High value for ‘Pass’ indicates that the process is efficient and provides high yield. kNN model being selected is known for its consistent performance, as it doesn’t make any assumptions about the data (non-parametric). Even when the dataset grows by a lot over time, kNN can be expected to predict yield accurately and consistently.\n",
    "\n"
   ]
  },
  {
   "cell_type": "markdown",
   "metadata": {},
   "source": [
    "# Problem definition\n",
    "This data which is collected by these sensors not only contains relevant information but also a lot of noise. The dataset contains readings from 591. Among the 1567 examples, there are only 104 fail cases which means that out target variable is imbalanced. We will look at the distribution of the dataset when we look at the python code.\n",
    "\n",
    "Data Understanding and Preparation Let’s start exploring the dataset now. The first step as always is to import the required libraries."
   ]
  },
  {
   "cell_type": "markdown",
   "metadata": {},
   "source": [
    "\n",
    "One class SVM classification for an imbalanced data set\n",
    "Date created: Oct 10, 2016\n",
    "Last modified: Oct 18, 2016\n",
    "Tags: one-class SVM, Random Forest variable importance, imbalanced data set, anomaly detection, feature selection, semiconductor manufacturing data\n",
    "About: for an imbalanced semicondutor manufacturing dataset, find explanatory variables with predictive power and build a classifier to detect failures\n",
    "\n",
    "The SECOM dataset in the UCI Machine Learning Repository is semicondutor manufacturing data. There are 1567 records, 590 anonymized features and 104 fails. This makes it an imbalanced with a 14:1 ratio of pass to fails. The process yield has a simple pass/fail response (encoded -1/1).\n",
    "\n",
    "Objective\n",
    "If the overall objective is to streamline the manufacturing process two things are needed: (i) a good classifier and (ii) feature selection. A streamlined feature set can not only lead to better prediction accuracy and data understanding but also optimize manufacturing resources.\n",
    "For this exercise, we will look at:\n",
    "the use of a one-class SVM for an imbalanced data set\n",
    "reducing the number of features to improve classifier performance\n",
    "Methodology\n",
    "The Variable Importance is a byproduct of the random forest classifier construction. We will rank the features in order of importance and the first x ranked features will be used for the classifier. We will then use the one-class SVM (OCSVM) method to classify the data. In the OCSVM, a decision boundary is learned using only the majority class. The minority class data are outliers in this setup.\n",
    "Preprocessing\n",
    "The data represents measurements from a large number of processes or sensors; many of the records are missing -- 50-60% of an entire column in 4% of the cases. In addition some measurements are identical/constant and so not useful for prediction. We will remove those columns with high missing count or constant values.\n",
    "For the random forest classifier, we will impute the remainaing missing values with the median for the column. For the OCSVM, we will additionally scale the data. We will use the sklearn preprocessing module for both imputing and scaling."
   ]
  },
  {
   "cell_type": "markdown",
   "metadata": {},
   "source": [
    "Import Library, Read and merge data"
   ]
  },
  {
   "cell_type": "code",
   "execution_count": 54,
   "metadata": {},
   "outputs": [
    {
     "name": "stderr",
     "output_type": "stream",
     "text": [
      "Using TensorFlow backend.\n"
     ]
    }
   ],
   "source": [
    "from __future__ import division\n",
    "import numpy as np\n",
    "import pandas as pd\n",
    "import matplotlib.pyplot as plt\n",
    "import seaborn as sns\n",
    "%matplotlib inline\n",
    "\n",
    "from sklearn.preprocessing import Imputer\n",
    "from sklearn.model_selection import train_test_split as tts\n",
    "from sklearn.model_selection import GridSearchCV\n",
    "from sklearn.model_selection import cross_val_score\n",
    "\n",
    "from sklearn.ensemble import RandomForestClassifier\n",
    "from sklearn.ensemble import GradientBoostingClassifier\n",
    "from sklearn.ensemble import RandomForestClassifier\n",
    " \n",
    "from sklearn.metrics import roc_curve, auc\n",
    "from sklearn.metrics import confusion_matrix, classification_report,\\\n",
    "roc_auc_score, accuracy_score\n",
    "from sklearn.metrics import make_scorer, matthews_corrcoef\n",
    "\n",
    "from time import time\n",
    "from imblearn.over_sampling import SMOTE\n",
    "\n",
    "import warnings\n",
    "warnings.filterwarnings(\"ignore\")\n",
    "\n",
    "SEED = 7  # random state"
   ]
  },
  {
   "cell_type": "code",
   "execution_count": 55,
   "metadata": {},
   "outputs": [
    {
     "name": "stdout",
     "output_type": "stream",
     "text": [
      "The dataset has 1567 observations/rows and 590 variables/columns.\n",
      "The ratio of majority class to minority class is 14:1.\n"
     ]
    }
   ],
   "source": [
    "url = \"http://archive.ics.uci.edu/ml/machine-learning-databases/secom/secom.data\"\n",
    "secom = pd.read_table(url, header=None, delim_whitespace=True)\n",
    "\n",
    "url = \"http://archive.ics.uci.edu/ml/machine-learning-databases/secom/secom_labels.data\"\n",
    "y = pd.read_table(url, header=None, usecols=[0], squeeze=True, delim_whitespace=True)\n",
    "\n",
    "print ('The dataset has {} observations/rows and {} variables/columns.' \\\n",
    "       .format(secom.shape[0], secom.shape[1]))\n",
    "print ('The ratio of majority class to minority class is {}:1.' \\\n",
    "      .format(int(y[y == -1].size/y[y == 1].size)))"
   ]
  },
  {
   "cell_type": "markdown",
   "metadata": {},
   "source": [
    "II. Preprocessing\n",
    "\n",
    "We process the missing values first, dropping columns which have a large number of missing values and imputing values for those that have only a few missing values. The one-class SVM exercise has a more detailed version of these steps."
   ]
  },
  {
   "cell_type": "code",
   "execution_count": 56,
   "metadata": {},
   "outputs": [
    {
     "name": "stdout",
     "output_type": "stream",
     "text": [
      "The SECOM data set now has 442 variables.\n"
     ]
    }
   ],
   "source": [
    "# dropping columns which have large number of missing entries \n",
    "\n",
    "m = map(lambda x: sum(secom[x].isnull()), range(secom.shape[1]))\n",
    "m_200thresh = filter(lambda i: (m[i] > 200), range(secom.shape[1]))\n",
    "secom_drop_200thresh = secom.dropna(subset=[200], axis=1)\n",
    "dropthese = [x for x in secom_drop_200thresh.columns.values if \n",
    "             secom_drop_200thresh[x].std() == 0]\n",
    "secom_drop_200thresh.drop(dropthese, axis=1, inplace=True)\n",
    "\n",
    "print ('The SECOM data set now has {} variables.'\\\n",
    "      .format(secom_drop_200thresh.shape[1]))"
   ]
  },
  {
   "cell_type": "code",
   "execution_count": 57,
   "metadata": {},
   "outputs": [],
   "source": [
    "# imputing missing values for the random forest\n",
    "\n",
    "imp = Imputer(missing_values='NaN', strategy='median', axis=0)\n",
    "secom_imp = pd.DataFrame(imp.fit_transform(secom_drop_200thresh))\n",
    "\n",
    "# use Random Forest to assess variable importance\n",
    "\n",
    "rf = RandomForestClassifier(n_estimators=100, random_state=7)\n",
    "rf.fit(secom_imp, y)\n",
    "\n",
    "# sorting features according to their rank\n",
    "\n",
    "importance = rf.feature_importances_\n",
    "ranked_indices = np.argsort(importance)[::-1]"
   ]
  },
  {
   "cell_type": "markdown",
   "metadata": {},
   "source": [
    "III. SVM Classification\n",
    "Preprocessing\n",
    "\n",
    "The SVM is sensitive to feature scale so the first step is to center and normalize the data. The train and test sets are scaled separately using the mean and variance computed from the training data. This is done to estimate the ability of the model to generalize."
   ]
  },
  {
   "cell_type": "code",
   "execution_count": 58,
   "metadata": {},
   "outputs": [
    {
     "name": "stdout",
     "output_type": "stream",
     "text": [
      "Train data: The majority/minority class have 1170 and 83 elements respectively.\n",
      "The maj/min class ratio is: 14\n",
      "Holdout data: The majority/minority class have 293 and 21 elements respectively.\n",
      "The maj/min class ratio for the holdout set is: 14\n"
     ]
    }
   ],
   "source": [
    "# split data into train and holdout sets\n",
    "# stratify the sample used for modeling to preserve the class proportions\n",
    "\n",
    "\n",
    "X_train, X_holdout, y_train, y_holdout = tts(secom_imp[ranked_indices[:40]], y, \\\n",
    "                                             test_size=0.2, stratify=y, random_state=5)\n",
    "\n",
    "\n",
    "print ('Train data: The majority/minority class have {} and {} elements respectively.'\\\n",
    "      .format(y_train[y_train == -1].size, y_train[y_train == 1].size))\n",
    "print ('The maj/min class ratio is: {0:2.0f}' \\\n",
    "      .format(round(y_train[y_train == -1].size/y_train[y_train == 1].size)))\n",
    "print ('Holdout data: The majority/minority class have {} and {} elements respectively.'\\\n",
    "       .format(y_holdout[y_holdout == -1].size, y_holdout[y_holdout == 1].size))\n",
    "print ('The maj/min class ratio for the holdout set is: {0:2.0f}' \\\n",
    "      .format(round(y_holdout[y_holdout == -1].size/y_holdout[y_holdout == 1].size)))"
   ]
  },
  {
   "cell_type": "code",
   "execution_count": 59,
   "metadata": {},
   "outputs": [],
   "source": [
    "# scaling the split data. The holdout data uses scaling parameters \n",
    "# computed from the training data\n",
    "\n",
    "standard_scaler = StandardScaler()\n",
    "X_train_scaled  = pd.DataFrame(standard_scaler.fit_transform(X_train), \\\n",
    "                              index=X_train.index)\n",
    "X_holdout_scaled = pd.DataFrame(standard_scaler.transform(X_holdout))\n",
    "# Note: we convert to a DataFrame because the plot functions \n",
    "# we will use need DataFrame inputs."
   ]
  },
  {
   "cell_type": "markdown",
   "metadata": {},
   "source": [
    "# Finding parameters\n",
    "\n",
    "The usual way to select parameters is via grid-search and cross-validation (CV). The scoring is based on the accuracy. When the classes are imbalanced, the true positive of the majority class dominates. Often, there is a high cost associated with the misclassification of the minority class, and in those cases alternative scoring measures such as the F1 and $F_{\\beta}$ scores or the Matthews Correlation Coefficient (which uses all four values of the confusion matrix) are used.\n",
    "In CV experiments on this data, the majority class still dominates so that for the best CV F1-scores, the True Negative Rate (TNR - the rate at which the minority class is correctly classified) is zero.\n",
    "Instead of automating the selection of hyperparameters, I have manually selected C and $\\gamma$ values for which the precision/recall/F1 values as well as the TNR are high.\n",
    "\n",
    "An example is shown below.\n"
   ]
  },
  {
   "cell_type": "code",
   "execution_count": 60,
   "metadata": {},
   "outputs": [
    {
     "name": "stdout",
     "output_type": "stream",
     "text": [
      "Before resampling: \n",
      "The majority/minority class have 1170 and 83 elements respectively.\n",
      "After oversampling at 0.5%: \n",
      "The majority/minority class have 1170 and 585 elements respectively.\n"
     ]
    }
   ],
   "source": [
    "# oversampling\n",
    "\n",
    "ratio = 0.5\n",
    "\n",
    "smote = SMOTE(ratio = ratio, kind='regular')\n",
    "smox, smoy = smote.fit_sample(X_train_scaled, y_train)\n",
    "\n",
    "print ('Before resampling: \\n\\\n",
    "The majority/minority class have {} and {} elements respectively.'\\\n",
    ".format(y_train[y == -1].size, y_train[y == 1].size))\n",
    "print ('After oversampling at {}%: \\n\\\n",
    "The majority/minority class have {} and {} elements respectively.'\\\n",
    ".format(ratio, smoy[smoy == -1].size, smoy[smoy == 1].size))"
   ]
  },
  {
   "cell_type": "code",
   "execution_count": 61,
   "metadata": {},
   "outputs": [
    {
     "data": {
      "image/png": "[encoded data removed]",
      "text/plain": [
       "<Figure size 504x360 with 1 Axes>"
      ]
     },
     "metadata": {},
     "output_type": "display_data"
    }
   ],
   "source": [
    "# plotting minority class distribution after SMOTE\n",
    "# column 4 displayed\n",
    "\n",
    "from IPython.html.widgets import interact\n",
    "@interact(ratio=[0.1,1.0])\n",
    "\n",
    "def plot_dist(ratio):\n",
    "    sns.set(style=\"white\", font_scale=1.3) \n",
    "    fig, ax = plt.subplots(figsize=(7,5))\n",
    "\n",
    "    smote = SMOTE(ratio = ratio, kind='regular')\n",
    "    smox, smoy = smote.fit_sample(X_train_scaled, y_train)\n",
    "    smox_df = pd.DataFrame(smox)\n",
    "\n",
    "    ax = sns.distplot(smox_df[4][smoy == 1], color='b',  \\\n",
    "                  kde=False, label='after')         \n",
    "    ax = sns.distplot(X_train_scaled[4][y_train == 1], color='r', \\\n",
    "                  kde=False, label='before')\n",
    "    ax.set_ylim([0, 130])\n",
    "    ax.set(xlabel='')\n",
    "    ax.legend(title='Ratio = {}'.format(ratio))\n",
    "    plt.title('Minority class distribution before and after oversampling')\n",
    "\n",
    "    plt.show()"
   ]
  },
  {
   "cell_type": "code",
   "execution_count": 67,
   "metadata": {},
   "outputs": [
    {
     "name": "stdout",
     "output_type": "stream",
     "text": [
      "The accuracy is: 0.82 \n",
      "\n",
      "The confusion matrix: \n",
      "[[243  50]\n",
      " [  8  13]]\n",
      "\n",
      "The True Negative rate is: 0.62\n",
      "\n",
      "The Matthews correlation coefficient: 0.28 \n",
      "\n",
      "              precision    recall  f1-score   support\n",
      "\n",
      "          -1       0.97      0.83      0.89       293\n",
      "           1       0.21      0.62      0.31        21\n",
      "\n",
      "    accuracy                           0.82       314\n",
      "   macro avg       0.59      0.72      0.60       314\n",
      "weighted avg       0.92      0.82      0.85       314\n",
      "\n",
      "The AUC is: 0.72\n"
     ]
    }
   ],
   "source": [
    "# classification results\n",
    "from sklearn.svm import SVC\n",
    "from sklearn.metrics import confusion_matrix, matthews_corrcoef,\\\n",
    "classification_report, roc_auc_score, accuracy_score\n",
    "\n",
    "# manually selected parameters\n",
    "clf = SVC(C = 2, gamma = .0008)\n",
    "clf.fit(smox, smoy)\n",
    "y_predicted = clf.predict(X_holdout_scaled)\n",
    "\n",
    "\n",
    "print ('The accuracy is: {0:4.2} \\n' \\\n",
    ".format(accuracy_score(y_holdout, y_predicted)))\n",
    "\n",
    "print ('The confusion matrix: ')\n",
    "cm = confusion_matrix(y_holdout, y_predicted)\n",
    "print (cm)\n",
    "\n",
    "print ('\\nThe True Negative rate is: {0:4.2}' \\\n",
    ".format(float(cm[1][1])/np.sum(cm[1])))\n",
    "\n",
    "print ('\\nThe Matthews correlation coefficient: {0:4.2f} \\n' \\\n",
    ".format(matthews_corrcoef(y_holdout, y_predicted)))\n",
    "\n",
    "print(classification_report(y_holdout, y_predicted))\n",
    "print ('The AUC is: {0:4.2}'\\\n",
    ".format(roc_auc_score(y_holdout, y_predicted)))"
   ]
  },
  {
   "cell_type": "raw",
   "metadata": {},
   "source": [
    "For these manually selected parameters, the TNR is 0.62, the Matthews correlation coefficient is 0.21 and the precision/recall/F1 is in the 0.85 - 0.92 range. Selecting the best CV score (usually in the 0.90 range), on the other hand, would have given a TNR of 0 for all the scoring metrics I looked at."
   ]
  },
  {
   "cell_type": "raw",
   "metadata": {},
   "source": [
    "\n",
    "IV. Discussion\n",
    "\n",
    "There is a trend in the ROC curves (the ROC convex hull) in the figure above with the higher oversampling ratios --0.7 vs 0.1-- having a higher AUC. An obvious question then is whether increasing the oversampling ratio to get a balanced data set would give the best results.\n",
    "\n",
    "In the experiment, no significant improvements were seen in the 0.5 - 0.8 (0.8 not plotted) regime. Oversampling with SMOTE broadens the decision region around the minority points (so we would expect better results) but the coverage may exceed the decision surface**. The level of oversampling therefore needs to be experimentally determined.\n",
    "\n",
    "Another strategy to balance the classes is to combine oversampling (the minority class) with undersampling (the majority class). Chawla et al. had reported [1] that a combination of oversampling and undersampling gave the best results. We will experiment with this combination in a future exercise.\n",
    "\n",
    "**It should also be noted that oversampling results in a significant increase (and bias) in the minority class. For instance, for a 0.5 ratio, the minority class is increased seven-fold (from 83 to 585). A completely balanced data set would involve a fourteen-fold increase in the minority class and this would alter the decision surface.\n"
   ]
  }
 ],
 "metadata": {
  "kernelspec": {
   "display_name": "Python 3",
   "language": "python",
   "name": "python3"
  },
  "language_info": {
   "codemirror_mode": {
    "name": "ipython",
    "version": 3
   },
   "file_extension": ".py",
   "mimetype": "text/x-python",
   "name": "python",
   "nbconvert_exporter": "python",
   "pygments_lexer": "ipython3",
   "version": "3.7.1"
  }
 },
 "nbformat": 4,
 "nbformat_minor": 2
}
