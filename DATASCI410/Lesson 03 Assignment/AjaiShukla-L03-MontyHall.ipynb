{
 "cells": [
  {
   "cell_type": "raw",
   "metadata": {},
   "source": [
    "Lesson 3 Assignment - Monty Hall Simulation\n",
    "Author - Ajai Shukla\n",
    "Instructions\n",
    "Simulate the conditional probabilities of the distributions for winning a car vs. a goat for the Monty Hall Problem that includes the following:\n",
    "the cases for switching or not switching\n",
    "histograms and summary statistics (at least mean and variance) of the results for winning the car or a goat for both strategies: switching or not switching\n",
    "comparison of the cases to determine the best strategy\n",
    "recommended strategy\n",
    "Note:\n",
    "Please clearly outline the results and your recommendation with markdown text. Be sure your discussion includes narrative for your figures and tables so it is clear to the reader the importance of each bit of evidence."
   ]
  },
  {
   "cell_type": "code",
   "execution_count": 8,
   "metadata": {},
   "outputs": [],
   "source": [
    "# Import libraries\n",
    "import matplotlib.pyplot as plt\n",
    "import seaborn as sns\n",
    "import numpy as np\n",
    "import random"
   ]
  },
  {
   "cell_type": "code",
   "execution_count": 9,
   "metadata": {},
   "outputs": [],
   "source": [
    "class MontyHall:\n",
    "    switch_games = []\n",
    "    stay_games = []\n",
    "    \n",
    "    def __init__(self, num_trials):\n",
    "        self.num_trials = num_trials\n",
    "        self.simulate_games()\n",
    "    \n",
    "    def simulate_game(self, does_switch):\n",
    "        winning_door = random.randint(1, 3)\n",
    "        initial_pick = random.randint(1, 3)\n",
    "        monte_doors = [1, 2, 3]\n",
    "        # remove the winning door and inital pick from options that monte can reveal\n",
    "        monte_doors.remove(winning_door)\n",
    "        if initial_pick != winning_door: monte_doors.remove(initial_pick)\n",
    "        monte_opens = random.choice(monte_doors)\n",
    "\n",
    "        # case of switching    \n",
    "        if does_switch:\n",
    "            doors = [1, 2, 3]\n",
    "            doors.remove(initial_pick)\n",
    "            doors.remove(monte_opens)\n",
    "            # the remaining door        \n",
    "            switch_pick = doors[0]\n",
    "\n",
    "            if switch_pick == winning_door:\n",
    "                return 1\n",
    "            else:\n",
    "                return 0\n",
    "        # case for not switching\n",
    "        elif initial_pick == winning_door: \n",
    "            return 1\n",
    "        else:\n",
    "            return 0\n",
    "\n",
    "    def simulate_games(self):\n",
    "        for trial in range(self.num_trials):\n",
    "            self.switch_games.append(self.simulate_game(True))\n",
    "            self.stay_games.append(self.simulate_game(False))"
   ]
  },
  {
   "cell_type": "code",
   "execution_count": 10,
   "metadata": {},
   "outputs": [],
   "source": [
    "# run the simulation\n",
    "game = MontyHall(10000)"
   ]
  },
  {
   "cell_type": "code",
   "execution_count": 11,
   "metadata": {},
   "outputs": [
    {
     "data": {
      "text/plain": [
       "0.6734"
      ]
     },
     "execution_count": 11,
     "metadata": {},
     "output_type": "execute_result"
    }
   ],
   "source": [
    "# mean of switching\n",
    "np.mean(game.switch_games)\n"
   ]
  },
  {
   "cell_type": "code",
   "execution_count": 12,
   "metadata": {},
   "outputs": [
    {
     "data": {
      "text/plain": [
       "0.3264"
      ]
     },
     "execution_count": 12,
     "metadata": {},
     "output_type": "execute_result"
    }
   ],
   "source": [
    "# mean of staying\n",
    "np.mean(game.stay_games)"
   ]
  },
  {
   "cell_type": "code",
   "execution_count": 13,
   "metadata": {},
   "outputs": [
    {
     "data": {
      "text/plain": [
       "0.21993244"
      ]
     },
     "execution_count": 13,
     "metadata": {},
     "output_type": "execute_result"
    }
   ],
   "source": [
    "# variance of switching\n",
    "np.var(game.switch_games)"
   ]
  },
  {
   "cell_type": "code",
   "execution_count": 14,
   "metadata": {},
   "outputs": [
    {
     "data": {
      "text/plain": [
       "0.2198630400000001"
      ]
     },
     "execution_count": 14,
     "metadata": {},
     "output_type": "execute_result"
    }
   ],
   "source": [
    "# variance of staying\n",
    "np.var(game.stay_games)"
   ]
  },
  {
   "cell_type": "markdown",
   "metadata": {},
   "source": [
    "Conclusions\n",
    "The following conclusions are based on a simulation of 10,000 games. The mean rate of success for switching is 67.34 percent versus 32.64 percent for staying. Both stratagies exhibited similar variances of 0.219. With these results the recommended strategy is to switch the guess."
   ]
  }
 ],
 "metadata": {
  "kernelspec": {
   "display_name": "Python 3",
   "language": "python",
   "name": "python3"
  },
  "language_info": {
   "codemirror_mode": {
    "name": "ipython",
    "version": 3
   },
   "file_extension": ".py",
   "mimetype": "text/x-python",
   "name": "python",
   "nbconvert_exporter": "python",
   "pygments_lexer": "ipython3",
   "version": "3.7.3"
  }
 },
 "nbformat": 4,
 "nbformat_minor": 2
}
